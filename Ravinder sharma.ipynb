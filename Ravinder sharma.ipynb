{
 "cells": [
  {
   "cell_type": "code",
   "execution_count": 1,
   "id": "bd3037f2",
   "metadata": {},
   "outputs": [
    {
     "name": "stdout",
     "output_type": "stream",
     "text": [
      "this is sparta\n"
     ]
    }
   ],
   "source": [
    "print(\"this is sparta\")"
   ]
  },
  {
   "cell_type": "code",
   "execution_count": 1,
   "id": "324cf6bf",
   "metadata": {},
   "outputs": [],
   "source": [
    "student = \"Sam\""
   ]
  },
  {
   "cell_type": "code",
   "execution_count": 2,
   "id": "60f49e0a",
   "metadata": {},
   "outputs": [
    {
     "data": {
      "text/plain": [
       "'Sam'"
      ]
     },
     "execution_count": 2,
     "metadata": {},
     "output_type": "execute_result"
    }
   ],
   "source": [
    "student"
   ]
  },
  {
   "cell_type": "code",
   "execution_count": 3,
   "id": "791cf630",
   "metadata": {},
   "outputs": [],
   "source": [
    "student = \"matt\""
   ]
  },
  {
   "cell_type": "code",
   "execution_count": 4,
   "id": "ea7edc96",
   "metadata": {},
   "outputs": [
    {
     "data": {
      "text/plain": [
       "'matt'"
      ]
     },
     "execution_count": 4,
     "metadata": {},
     "output_type": "execute_result"
    }
   ],
   "source": [
    "student"
   ]
  },
  {
   "cell_type": "code",
   "execution_count": 5,
   "id": "72985811",
   "metadata": {},
   "outputs": [],
   "source": [
    "student = \"bob\""
   ]
  },
  {
   "cell_type": "code",
   "execution_count": 6,
   "id": "2c1dd8be",
   "metadata": {},
   "outputs": [
    {
     "data": {
      "text/plain": [
       "'bob'"
      ]
     },
     "execution_count": 6,
     "metadata": {},
     "output_type": "execute_result"
    }
   ],
   "source": [
    "student"
   ]
  },
  {
   "cell_type": "code",
   "execution_count": 7,
   "id": "720b0292",
   "metadata": {},
   "outputs": [],
   "source": [
    "a1 = 10"
   ]
  },
  {
   "cell_type": "code",
   "execution_count": 8,
   "id": "3979b26d",
   "metadata": {},
   "outputs": [
    {
     "data": {
      "text/plain": [
       "10"
      ]
     },
     "execution_count": 8,
     "metadata": {},
     "output_type": "execute_result"
    }
   ],
   "source": [
    "a1"
   ]
  },
  {
   "cell_type": "code",
   "execution_count": 9,
   "id": "4e1b16f6",
   "metadata": {},
   "outputs": [
    {
     "data": {
      "text/plain": [
       "int"
      ]
     },
     "execution_count": 9,
     "metadata": {},
     "output_type": "execute_result"
    }
   ],
   "source": [
    "type(a1)"
   ]
  },
  {
   "cell_type": "code",
   "execution_count": 10,
   "id": "c6c28590",
   "metadata": {},
   "outputs": [],
   "source": [
    "a1 = 3.4"
   ]
  },
  {
   "cell_type": "code",
   "execution_count": 11,
   "id": "96e3ed1b",
   "metadata": {},
   "outputs": [
    {
     "data": {
      "text/plain": [
       "3.4"
      ]
     },
     "execution_count": 11,
     "metadata": {},
     "output_type": "execute_result"
    }
   ],
   "source": [
    "a1"
   ]
  },
  {
   "cell_type": "code",
   "execution_count": 12,
   "id": "2a77bc01",
   "metadata": {},
   "outputs": [
    {
     "data": {
      "text/plain": [
       "float"
      ]
     },
     "execution_count": 12,
     "metadata": {},
     "output_type": "execute_result"
    }
   ],
   "source": [
    "type(a1)"
   ]
  },
  {
   "cell_type": "code",
   "execution_count": 13,
   "id": "93c4ce7f",
   "metadata": {},
   "outputs": [],
   "source": [
    "a1 = True"
   ]
  },
  {
   "cell_type": "code",
   "execution_count": 14,
   "id": "9ba69ee8",
   "metadata": {},
   "outputs": [
    {
     "data": {
      "text/plain": [
       "True"
      ]
     },
     "execution_count": 14,
     "metadata": {},
     "output_type": "execute_result"
    }
   ],
   "source": [
    "a1"
   ]
  },
  {
   "cell_type": "code",
   "execution_count": 15,
   "id": "468005f4",
   "metadata": {},
   "outputs": [
    {
     "data": {
      "text/plain": [
       "bool"
      ]
     },
     "execution_count": 15,
     "metadata": {},
     "output_type": "execute_result"
    }
   ],
   "source": [
    "type(a1)"
   ]
  },
  {
   "cell_type": "code",
   "execution_count": 16,
   "id": "9b88e2f0",
   "metadata": {},
   "outputs": [],
   "source": [
    "a1 = \"hello world\""
   ]
  },
  {
   "cell_type": "code",
   "execution_count": 17,
   "id": "9d8854d5",
   "metadata": {},
   "outputs": [
    {
     "data": {
      "text/plain": [
       "'hello world'"
      ]
     },
     "execution_count": 17,
     "metadata": {},
     "output_type": "execute_result"
    }
   ],
   "source": [
    "a1"
   ]
  },
  {
   "cell_type": "code",
   "execution_count": 18,
   "id": "893194ce",
   "metadata": {},
   "outputs": [
    {
     "data": {
      "text/plain": [
       "str"
      ]
     },
     "execution_count": 18,
     "metadata": {},
     "output_type": "execute_result"
    }
   ],
   "source": [
    "type(a1)"
   ]
  },
  {
   "cell_type": "code",
   "execution_count": 19,
   "id": "554554f6",
   "metadata": {},
   "outputs": [],
   "source": [
    "a1 = 3+4j"
   ]
  },
  {
   "cell_type": "code",
   "execution_count": 20,
   "id": "8453140c",
   "metadata": {},
   "outputs": [
    {
     "data": {
      "text/plain": [
       "(3+4j)"
      ]
     },
     "execution_count": 20,
     "metadata": {},
     "output_type": "execute_result"
    }
   ],
   "source": [
    "a1"
   ]
  },
  {
   "cell_type": "code",
   "execution_count": 21,
   "id": "a0e22a37",
   "metadata": {},
   "outputs": [
    {
     "data": {
      "text/plain": [
       "complex"
      ]
     },
     "execution_count": 21,
     "metadata": {},
     "output_type": "execute_result"
    }
   ],
   "source": [
    "type(a1)"
   ]
  },
  {
   "cell_type": "code",
   "execution_count": 22,
   "id": "17c6408b",
   "metadata": {},
   "outputs": [],
   "source": [
    "#arthmatic operator"
   ]
  },
  {
   "cell_type": "code",
   "execution_count": 23,
   "id": "e81b45de",
   "metadata": {},
   "outputs": [],
   "source": [
    "# +,-,/"
   ]
  },
  {
   "cell_type": "code",
   "execution_count": 24,
   "id": "3d5fe409",
   "metadata": {},
   "outputs": [],
   "source": [
    "a = 10\n",
    "b = 20"
   ]
  },
  {
   "cell_type": "code",
   "execution_count": 25,
   "id": "7ad30ac6",
   "metadata": {},
   "outputs": [
    {
     "data": {
      "text/plain": [
       "(10, 20)"
      ]
     },
     "execution_count": 25,
     "metadata": {},
     "output_type": "execute_result"
    }
   ],
   "source": [
    "a,b"
   ]
  },
  {
   "cell_type": "code",
   "execution_count": 26,
   "id": "120523b5",
   "metadata": {},
   "outputs": [
    {
     "data": {
      "text/plain": [
       "30"
      ]
     },
     "execution_count": 26,
     "metadata": {},
     "output_type": "execute_result"
    }
   ],
   "source": [
    "a+b"
   ]
  },
  {
   "cell_type": "code",
   "execution_count": 27,
   "id": "282f6e7b",
   "metadata": {},
   "outputs": [
    {
     "data": {
      "text/plain": [
       "-10"
      ]
     },
     "execution_count": 27,
     "metadata": {},
     "output_type": "execute_result"
    }
   ],
   "source": [
    "a-b"
   ]
  },
  {
   "cell_type": "code",
   "execution_count": 28,
   "id": "7cce2584",
   "metadata": {},
   "outputs": [
    {
     "data": {
      "text/plain": [
       "200"
      ]
     },
     "execution_count": 28,
     "metadata": {},
     "output_type": "execute_result"
    }
   ],
   "source": [
    "a*b"
   ]
  },
  {
   "cell_type": "code",
   "execution_count": 29,
   "id": "94dbb211",
   "metadata": {},
   "outputs": [
    {
     "data": {
      "text/plain": [
       "0.5"
      ]
     },
     "execution_count": 29,
     "metadata": {},
     "output_type": "execute_result"
    }
   ],
   "source": [
    "a/b"
   ]
  },
  {
   "cell_type": "code",
   "execution_count": 30,
   "id": "9fcf9e66",
   "metadata": {},
   "outputs": [],
   "source": [
    "#relational operator"
   ]
  },
  {
   "cell_type": "code",
   "execution_count": 31,
   "id": "dcd13dec",
   "metadata": {},
   "outputs": [],
   "source": [
    "#<,>,==,!="
   ]
  },
  {
   "cell_type": "code",
   "execution_count": 32,
   "id": "64a30774",
   "metadata": {},
   "outputs": [],
   "source": [
    "a = 50\n",
    "b = 100"
   ]
  },
  {
   "cell_type": "code",
   "execution_count": 33,
   "id": "4365a62c",
   "metadata": {},
   "outputs": [
    {
     "data": {
      "text/plain": [
       "False"
      ]
     },
     "execution_count": 33,
     "metadata": {},
     "output_type": "execute_result"
    }
   ],
   "source": [
    "a>b"
   ]
  },
  {
   "cell_type": "code",
   "execution_count": 34,
   "id": "f47c9a5d",
   "metadata": {},
   "outputs": [
    {
     "data": {
      "text/plain": [
       "True"
      ]
     },
     "execution_count": 34,
     "metadata": {},
     "output_type": "execute_result"
    }
   ],
   "source": [
    "a<b"
   ]
  },
  {
   "cell_type": "code",
   "execution_count": 35,
   "id": "5b5e8fd5",
   "metadata": {},
   "outputs": [
    {
     "data": {
      "text/plain": [
       "False"
      ]
     },
     "execution_count": 35,
     "metadata": {},
     "output_type": "execute_result"
    }
   ],
   "source": [
    "a==b"
   ]
  },
  {
   "cell_type": "code",
   "execution_count": 36,
   "id": "98ee7fa0",
   "metadata": {},
   "outputs": [
    {
     "data": {
      "text/plain": [
       "True"
      ]
     },
     "execution_count": 36,
     "metadata": {},
     "output_type": "execute_result"
    }
   ],
   "source": [
    "a!=b"
   ]
  },
  {
   "cell_type": "code",
   "execution_count": 37,
   "id": "b3410bb1",
   "metadata": {},
   "outputs": [],
   "source": [
    "#logical operator"
   ]
  },
  {
   "cell_type": "code",
   "execution_count": 38,
   "id": "f9a78d3f",
   "metadata": {},
   "outputs": [],
   "source": [
    "#&,|"
   ]
  },
  {
   "cell_type": "code",
   "execution_count": 42,
   "id": "fd2958ea",
   "metadata": {},
   "outputs": [],
   "source": [
    "a=True \n",
    "b=False"
   ]
  },
  {
   "cell_type": "code",
   "execution_count": 43,
   "id": "63386aed",
   "metadata": {},
   "outputs": [
    {
     "data": {
      "text/plain": [
       "True"
      ]
     },
     "execution_count": 43,
     "metadata": {},
     "output_type": "execute_result"
    }
   ],
   "source": [
    "a & a"
   ]
  },
  {
   "cell_type": "code",
   "execution_count": 44,
   "id": "d122fe6b",
   "metadata": {},
   "outputs": [
    {
     "data": {
      "text/plain": [
       "False"
      ]
     },
     "execution_count": 44,
     "metadata": {},
     "output_type": "execute_result"
    }
   ],
   "source": [
    "a & b"
   ]
  },
  {
   "cell_type": "code",
   "execution_count": 45,
   "id": "330ba0d1",
   "metadata": {},
   "outputs": [
    {
     "data": {
      "text/plain": [
       "False"
      ]
     },
     "execution_count": 45,
     "metadata": {},
     "output_type": "execute_result"
    }
   ],
   "source": [
    "b & a"
   ]
  },
  {
   "cell_type": "code",
   "execution_count": 46,
   "id": "af3bde64",
   "metadata": {},
   "outputs": [
    {
     "data": {
      "text/plain": [
       "False"
      ]
     },
     "execution_count": 46,
     "metadata": {},
     "output_type": "execute_result"
    }
   ],
   "source": [
    "b & b"
   ]
  },
  {
   "cell_type": "code",
   "execution_count": 47,
   "id": "23f35a15",
   "metadata": {},
   "outputs": [
    {
     "data": {
      "text/plain": [
       "True"
      ]
     },
     "execution_count": 47,
     "metadata": {},
     "output_type": "execute_result"
    }
   ],
   "source": [
    "a|b"
   ]
  },
  {
   "cell_type": "code",
   "execution_count": 48,
   "id": "424fb9c2",
   "metadata": {},
   "outputs": [
    {
     "data": {
      "text/plain": [
       "True"
      ]
     },
     "execution_count": 48,
     "metadata": {},
     "output_type": "execute_result"
    }
   ],
   "source": [
    "b|a"
   ]
  },
  {
   "cell_type": "code",
   "execution_count": 49,
   "id": "2936eacc",
   "metadata": {},
   "outputs": [
    {
     "data": {
      "text/plain": [
       "True"
      ]
     },
     "execution_count": 49,
     "metadata": {},
     "output_type": "execute_result"
    }
   ],
   "source": [
    "a|a"
   ]
  },
  {
   "cell_type": "code",
   "execution_count": 50,
   "id": "d12fab1d",
   "metadata": {},
   "outputs": [
    {
     "data": {
      "text/plain": [
       "False"
      ]
     },
     "execution_count": 50,
     "metadata": {},
     "output_type": "execute_result"
    }
   ],
   "source": [
    "b|b"
   ]
  },
  {
   "cell_type": "code",
   "execution_count": 51,
   "id": "cec8a500",
   "metadata": {},
   "outputs": [],
   "source": [
    "#tokey"
   ]
  },
  {
   "cell_type": "code",
   "execution_count": 52,
   "id": "315683ac",
   "metadata": {},
   "outputs": [],
   "source": [
    "#keywords"
   ]
  },
  {
   "cell_type": "code",
   "execution_count": 53,
   "id": "a1d44e6a",
   "metadata": {},
   "outputs": [
    {
     "ename": "SyntaxError",
     "evalue": "cannot assign to True (1770609971.py, line 1)",
     "output_type": "error",
     "traceback": [
      "\u001b[1;36m  Cell \u001b[1;32mIn[53], line 1\u001b[1;36m\u001b[0m\n\u001b[1;33m    True = 1\u001b[0m\n\u001b[1;37m    ^\u001b[0m\n\u001b[1;31mSyntaxError\u001b[0m\u001b[1;31m:\u001b[0m cannot assign to True\n"
     ]
    }
   ],
   "source": [
    "True = 1"
   ]
  },
  {
   "cell_type": "code",
   "execution_count": 54,
   "id": "5c8401c0",
   "metadata": {},
   "outputs": [],
   "source": [
    "#identifier"
   ]
  },
  {
   "cell_type": "code",
   "execution_count": 55,
   "id": "67ff7fd4",
   "metadata": {},
   "outputs": [],
   "source": [
    "student = \"martha\""
   ]
  },
  {
   "cell_type": "code",
   "execution_count": 56,
   "id": "84fda951",
   "metadata": {},
   "outputs": [
    {
     "data": {
      "text/plain": [
       "'martha'"
      ]
     },
     "execution_count": 56,
     "metadata": {},
     "output_type": "execute_result"
    }
   ],
   "source": [
    "student"
   ]
  },
  {
   "cell_type": "code",
   "execution_count": 57,
   "id": "ce932b29",
   "metadata": {},
   "outputs": [],
   "source": [
    "Student=\"julie\""
   ]
  },
  {
   "cell_type": "code",
   "execution_count": 58,
   "id": "cc082999",
   "metadata": {},
   "outputs": [
    {
     "data": {
      "text/plain": [
       "'julie'"
      ]
     },
     "execution_count": 58,
     "metadata": {},
     "output_type": "execute_result"
    }
   ],
   "source": [
    "Student"
   ]
  },
  {
   "cell_type": "code",
   "execution_count": 59,
   "id": "3a3fa2cc",
   "metadata": {},
   "outputs": [],
   "source": [
    "#literal"
   ]
  },
  {
   "cell_type": "code",
   "execution_count": 60,
   "id": "0eaa64bc",
   "metadata": {},
   "outputs": [],
   "source": [
    "#constant and do not change"
   ]
  },
  {
   "cell_type": "code",
   "execution_count": 61,
   "id": "4720d3be",
   "metadata": {},
   "outputs": [],
   "source": [
    "a=\"hello world\""
   ]
  },
  {
   "cell_type": "code",
   "execution_count": 62,
   "id": "4024ee9b",
   "metadata": {},
   "outputs": [
    {
     "data": {
      "text/plain": [
       "'hello world'"
      ]
     },
     "execution_count": 62,
     "metadata": {},
     "output_type": "execute_result"
    }
   ],
   "source": [
    "a"
   ]
  },
  {
   "cell_type": "code",
   "execution_count": 63,
   "id": "510bf04d",
   "metadata": {},
   "outputs": [],
   "source": [
    "#hello world is a literal which is stored in variable"
   ]
  },
  {
   "cell_type": "code",
   "execution_count": 64,
   "id": "b24bd3d7",
   "metadata": {},
   "outputs": [],
   "source": [
    "#strings=it is a seq. of character enclosed within single qoute(''),double(\"\")triple('\"\"')"
   ]
  },
  {
   "cell_type": "code",
   "execution_count": 65,
   "id": "dea0b838",
   "metadata": {},
   "outputs": [],
   "source": [
    "#long sting or sentences is write in triple qoute"
   ]
  },
  {
   "cell_type": "code",
   "execution_count": 66,
   "id": "81fc202a",
   "metadata": {},
   "outputs": [],
   "source": [
    "str1='this is my first sring'"
   ]
  },
  {
   "cell_type": "code",
   "execution_count": 67,
   "id": "58bcd2df",
   "metadata": {},
   "outputs": [
    {
     "data": {
      "text/plain": [
       "'this is my first sring'"
      ]
     },
     "execution_count": 67,
     "metadata": {},
     "output_type": "execute_result"
    }
   ],
   "source": [
    "str1"
   ]
  },
  {
   "cell_type": "code",
   "execution_count": 68,
   "id": "a9a91ab7",
   "metadata": {},
   "outputs": [],
   "source": [
    "str2=\"this is my second sring\""
   ]
  },
  {
   "cell_type": "code",
   "execution_count": 69,
   "id": "ba1e70a8",
   "metadata": {},
   "outputs": [
    {
     "data": {
      "text/plain": [
       "'this is my second sring'"
      ]
     },
     "execution_count": 69,
     "metadata": {},
     "output_type": "execute_result"
    }
   ],
   "source": [
    "str2"
   ]
  },
  {
   "cell_type": "code",
   "execution_count": 70,
   "id": "41763fee",
   "metadata": {},
   "outputs": [],
   "source": [
    "str3='''\n",
    "hello world \n",
    "how are you \n",
    "whats going on \n",
    "everything is fine \n",
    "'''"
   ]
  },
  {
   "cell_type": "code",
   "execution_count": 71,
   "id": "eec16bda",
   "metadata": {},
   "outputs": [
    {
     "data": {
      "text/plain": [
       "'\\nhello world \\nhow are you \\nwhats going on \\neverything is fine \\n'"
      ]
     },
     "execution_count": 71,
     "metadata": {},
     "output_type": "execute_result"
    }
   ],
   "source": [
    "str3"
   ]
  },
  {
   "cell_type": "code",
   "execution_count": 72,
   "id": "ea042ecd",
   "metadata": {},
   "outputs": [],
   "source": [
    "my_sting=\"my name is jone\""
   ]
  },
  {
   "cell_type": "code",
   "execution_count": 73,
   "id": "e9cc6ffb",
   "metadata": {},
   "outputs": [
    {
     "data": {
      "text/plain": [
       "'m'"
      ]
     },
     "execution_count": 73,
     "metadata": {},
     "output_type": "execute_result"
    }
   ],
   "source": [
    "my_sting[0]"
   ]
  },
  {
   "cell_type": "code",
   "execution_count": 74,
   "id": "c4ce72cc",
   "metadata": {},
   "outputs": [
    {
     "data": {
      "text/plain": [
       "'e'"
      ]
     },
     "execution_count": 74,
     "metadata": {},
     "output_type": "execute_result"
    }
   ],
   "source": [
    "my_sting[-1]"
   ]
  },
  {
   "cell_type": "code",
   "execution_count": 75,
   "id": "6f3688c5",
   "metadata": {},
   "outputs": [],
   "source": [
    "my_sting=\"this is sparat\""
   ]
  },
  {
   "cell_type": "code",
   "execution_count": 76,
   "id": "f673a629",
   "metadata": {},
   "outputs": [
    {
     "data": {
      "text/plain": [
       "'this is sparat'"
      ]
     },
     "execution_count": 76,
     "metadata": {},
     "output_type": "execute_result"
    }
   ],
   "source": [
    "my_sting"
   ]
  },
  {
   "cell_type": "code",
   "execution_count": 78,
   "id": "5fbb14c6",
   "metadata": {},
   "outputs": [
    {
     "data": {
      "text/plain": [
       "'t'"
      ]
     },
     "execution_count": 78,
     "metadata": {},
     "output_type": "execute_result"
    }
   ],
   "source": [
    "my_sting[-1]"
   ]
  },
  {
   "cell_type": "code",
   "execution_count": 79,
   "id": "461a5a32",
   "metadata": {},
   "outputs": [
    {
     "data": {
      "text/plain": [
       "'is spa'"
      ]
     },
     "execution_count": 79,
     "metadata": {},
     "output_type": "execute_result"
    }
   ],
   "source": [
    "my_sting[5:11]"
   ]
  },
  {
   "cell_type": "code",
   "execution_count": 81,
   "id": "13888be4",
   "metadata": {},
   "outputs": [
    {
     "data": {
      "text/plain": [
       "'this'"
      ]
     },
     "execution_count": 81,
     "metadata": {},
     "output_type": "execute_result"
    }
   ],
   "source": [
    "my_sting[0:4]"
   ]
  },
  {
   "cell_type": "code",
   "execution_count": 83,
   "id": "7b7f7349",
   "metadata": {},
   "outputs": [
    {
     "data": {
      "text/plain": [
       "'sparat'"
      ]
     },
     "execution_count": 83,
     "metadata": {},
     "output_type": "execute_result"
    }
   ],
   "source": [
    "my_sting[8:16]"
   ]
  },
  {
   "cell_type": "code",
   "execution_count": 84,
   "id": "feb9a4ee",
   "metadata": {},
   "outputs": [
    {
     "data": {
      "text/plain": [
       "14"
      ]
     },
     "execution_count": 84,
     "metadata": {},
     "output_type": "execute_result"
    }
   ],
   "source": [
    "len(my_sting)"
   ]
  },
  {
   "cell_type": "code",
   "execution_count": 85,
   "id": "c0bfecbb",
   "metadata": {},
   "outputs": [
    {
     "data": {
      "text/plain": [
       "'this is sparat'"
      ]
     },
     "execution_count": 85,
     "metadata": {},
     "output_type": "execute_result"
    }
   ],
   "source": [
    "my_sting.lower()"
   ]
  },
  {
   "cell_type": "code",
   "execution_count": 86,
   "id": "c48fb8e4",
   "metadata": {},
   "outputs": [
    {
     "data": {
      "text/plain": [
       "'THIS IS SPARAT'"
      ]
     },
     "execution_count": 86,
     "metadata": {},
     "output_type": "execute_result"
    }
   ],
   "source": [
    "my_sting.upper()"
   ]
  },
  {
   "cell_type": "code",
   "execution_count": 88,
   "id": "47b2d3f4",
   "metadata": {},
   "outputs": [
    {
     "data": {
      "text/plain": [
       "'ahis is sparaa'"
      ]
     },
     "execution_count": 88,
     "metadata": {},
     "output_type": "execute_result"
    }
   ],
   "source": [
    "my_sting.replace('t','a')"
   ]
  },
  {
   "cell_type": "code",
   "execution_count": 89,
   "id": "7c9e99bd",
   "metadata": {},
   "outputs": [
    {
     "data": {
      "text/plain": [
       "'this is sptrtt'"
      ]
     },
     "execution_count": 89,
     "metadata": {},
     "output_type": "execute_result"
    }
   ],
   "source": [
    "my_sting.replace('a','t')"
   ]
  },
  {
   "cell_type": "code",
   "execution_count": 90,
   "id": "1e039db2",
   "metadata": {},
   "outputs": [],
   "source": [
    "new_string=\"hello hello world\""
   ]
  },
  {
   "cell_type": "code",
   "execution_count": 91,
   "id": "4c082dea",
   "metadata": {},
   "outputs": [
    {
     "data": {
      "text/plain": [
       "2"
      ]
     },
     "execution_count": 91,
     "metadata": {},
     "output_type": "execute_result"
    }
   ],
   "source": [
    "new_string.count(\"hello\")"
   ]
  },
  {
   "cell_type": "code",
   "execution_count": 92,
   "id": "5a7fd8f1",
   "metadata": {},
   "outputs": [
    {
     "data": {
      "text/plain": [
       "'hello hello ravinder'"
      ]
     },
     "execution_count": 92,
     "metadata": {},
     "output_type": "execute_result"
    }
   ],
   "source": [
    "new_string.replace(\"world\",\"ravinder\")"
   ]
  },
  {
   "cell_type": "code",
   "execution_count": 93,
   "id": "0b5286f8",
   "metadata": {},
   "outputs": [
    {
     "data": {
      "text/plain": [
       "8"
      ]
     },
     "execution_count": 93,
     "metadata": {},
     "output_type": "execute_result"
    }
   ],
   "source": [
    "s1='this is sparta'\n",
    "s1.find('sparta')"
   ]
  },
  {
   "cell_type": "code",
   "execution_count": 95,
   "id": "25413de5",
   "metadata": {},
   "outputs": [
    {
     "data": {
      "text/plain": [
       "['i like appel', 'mangoes', 'orangs']"
      ]
     },
     "execution_count": 95,
     "metadata": {},
     "output_type": "execute_result"
    }
   ],
   "source": [
    "fruit='i like appel,mangoes,orangs'\n",
    "fruit.split(',')"
   ]
  },
  {
   "cell_type": "code",
   "execution_count": 96,
   "id": "a7475f7f",
   "metadata": {},
   "outputs": [],
   "source": [
    "#tupel"
   ]
  },
  {
   "cell_type": "code",
   "execution_count": 97,
   "id": "db30ca6f",
   "metadata": {},
   "outputs": [],
   "source": [
    "tup1=(1,'a',True)"
   ]
  },
  {
   "cell_type": "code",
   "execution_count": 98,
   "id": "5cc14816",
   "metadata": {},
   "outputs": [
    {
     "data": {
      "text/plain": [
       "(1, 'a', True)"
      ]
     },
     "execution_count": 98,
     "metadata": {},
     "output_type": "execute_result"
    }
   ],
   "source": [
    "tup1"
   ]
  },
  {
   "cell_type": "code",
   "execution_count": 100,
   "id": "8eb45bfb",
   "metadata": {},
   "outputs": [
    {
     "data": {
      "text/plain": [
       "tuple"
      ]
     },
     "execution_count": 100,
     "metadata": {},
     "output_type": "execute_result"
    }
   ],
   "source": [
    "type(tup1)"
   ]
  },
  {
   "cell_type": "code",
   "execution_count": 104,
   "id": "7348dbdc",
   "metadata": {},
   "outputs": [],
   "source": [
    "tup1=(1,'a',True)"
   ]
  },
  {
   "cell_type": "code",
   "execution_count": 105,
   "id": "b3068d3b",
   "metadata": {},
   "outputs": [
    {
     "data": {
      "text/plain": [
       "(1, 'a', True)"
      ]
     },
     "execution_count": 105,
     "metadata": {},
     "output_type": "execute_result"
    }
   ],
   "source": [
    "tup1"
   ]
  },
  {
   "cell_type": "code",
   "execution_count": 107,
   "id": "bc6c0849",
   "metadata": {},
   "outputs": [
    {
     "data": {
      "text/plain": [
       "1"
      ]
     },
     "execution_count": 107,
     "metadata": {},
     "output_type": "execute_result"
    }
   ],
   "source": [
    "tup1[0]"
   ]
  },
  {
   "cell_type": "code",
   "execution_count": 108,
   "id": "8a4d2f6d",
   "metadata": {},
   "outputs": [
    {
     "data": {
      "text/plain": [
       "True"
      ]
     },
     "execution_count": 108,
     "metadata": {},
     "output_type": "execute_result"
    }
   ],
   "source": [
    "tup1[2]"
   ]
  },
  {
   "cell_type": "code",
   "execution_count": 109,
   "id": "f7a9b8fd",
   "metadata": {},
   "outputs": [
    {
     "data": {
      "text/plain": [
       "(1, 'a')"
      ]
     },
     "execution_count": 109,
     "metadata": {},
     "output_type": "execute_result"
    }
   ],
   "source": [
    "tup1[0:2]"
   ]
  },
  {
   "cell_type": "code",
   "execution_count": 110,
   "id": "8d715ebd",
   "metadata": {},
   "outputs": [
    {
     "ename": "TypeError",
     "evalue": "'tuple' object does not support item assignment",
     "output_type": "error",
     "traceback": [
      "\u001b[1;31m---------------------------------------------------------------------------\u001b[0m",
      "\u001b[1;31mTypeError\u001b[0m                                 Traceback (most recent call last)",
      "Cell \u001b[1;32mIn[110], line 1\u001b[0m\n\u001b[1;32m----> 1\u001b[0m tup1[\u001b[38;5;241m2\u001b[39m]\u001b[38;5;241m=\u001b[39m\u001b[38;5;124m'\u001b[39m\u001b[38;5;124mhello\u001b[39m\u001b[38;5;124m'\u001b[39m\n",
      "\u001b[1;31mTypeError\u001b[0m: 'tuple' object does not support item assignment"
     ]
    }
   ],
   "source": [
    "tup1[2]='hello'"
   ]
  },
  {
   "cell_type": "code",
   "execution_count": 111,
   "id": "d33de39f",
   "metadata": {},
   "outputs": [
    {
     "data": {
      "text/plain": [
       "3"
      ]
     },
     "execution_count": 111,
     "metadata": {},
     "output_type": "execute_result"
    }
   ],
   "source": [
    "len(tup1)"
   ]
  },
  {
   "cell_type": "code",
   "execution_count": 112,
   "id": "6b089811",
   "metadata": {},
   "outputs": [],
   "source": [
    "tup2=(1,2,3,4,5)"
   ]
  },
  {
   "cell_type": "code",
   "execution_count": 113,
   "id": "22d90abe",
   "metadata": {},
   "outputs": [
    {
     "data": {
      "text/plain": [
       "(1, 'a', True, 1, 2, 3, 4, 5)"
      ]
     },
     "execution_count": 113,
     "metadata": {},
     "output_type": "execute_result"
    }
   ],
   "source": [
    "tup1+tup2"
   ]
  },
  {
   "cell_type": "code",
   "execution_count": 115,
   "id": "fe818698",
   "metadata": {},
   "outputs": [
    {
     "data": {
      "text/plain": [
       "(1, 2, 3, 4, 5, 1, 'a', True)"
      ]
     },
     "execution_count": 115,
     "metadata": {},
     "output_type": "execute_result"
    }
   ],
   "source": [
    "tup2+tup1"
   ]
  },
  {
   "cell_type": "code",
   "execution_count": 116,
   "id": "f3727b45",
   "metadata": {},
   "outputs": [
    {
     "data": {
      "text/plain": [
       "(1, 'a', True, 1, 'a', True, 1, 'a', True, 1, 'a', True)"
      ]
     },
     "execution_count": 116,
     "metadata": {},
     "output_type": "execute_result"
    }
   ],
   "source": [
    "tup1*4"
   ]
  },
  {
   "cell_type": "code",
   "execution_count": 117,
   "id": "831e15c0",
   "metadata": {},
   "outputs": [
    {
     "data": {
      "text/plain": [
       "(1, 'a', True, 1, 'a', True, 1, 'a', True, 1, 'a', True, 1, 2, 3, 4, 5)"
      ]
     },
     "execution_count": 117,
     "metadata": {},
     "output_type": "execute_result"
    }
   ],
   "source": [
    "tup1*4+tup2"
   ]
  },
  {
   "cell_type": "code",
   "execution_count": 118,
   "id": "7ebd3688",
   "metadata": {},
   "outputs": [
    {
     "data": {
      "text/plain": [
       "(1,\n",
       " 'a',\n",
       " True,\n",
       " 1,\n",
       " 'a',\n",
       " True,\n",
       " 1,\n",
       " 'a',\n",
       " True,\n",
       " 1,\n",
       " 'a',\n",
       " True,\n",
       " 1,\n",
       " 2,\n",
       " 3,\n",
       " 4,\n",
       " 5,\n",
       " 1,\n",
       " 2,\n",
       " 3,\n",
       " 4,\n",
       " 5)"
      ]
     },
     "execution_count": 118,
     "metadata": {},
     "output_type": "execute_result"
    }
   ],
   "source": [
    "tup1*4+tup2*2"
   ]
  },
  {
   "cell_type": "code",
   "execution_count": 121,
   "id": "a2e994e8",
   "metadata": {},
   "outputs": [
    {
     "data": {
      "text/plain": [
       "1"
      ]
     },
     "execution_count": 121,
     "metadata": {},
     "output_type": "execute_result"
    }
   ],
   "source": [
    "tup1=(1,2,3,4,5,6,7,8,9)\n",
    "min(tup1)"
   ]
  },
  {
   "cell_type": "code",
   "execution_count": 122,
   "id": "2bb77634",
   "metadata": {},
   "outputs": [
    {
     "data": {
      "text/plain": [
       "9"
      ]
     },
     "execution_count": 122,
     "metadata": {},
     "output_type": "execute_result"
    }
   ],
   "source": [
    "tup1=(1,2,3,4,5,6,7,8,9)\n",
    "max(tup1)"
   ]
  },
  {
   "cell_type": "code",
   "execution_count": 1,
   "id": "7aea1b48",
   "metadata": {},
   "outputs": [],
   "source": [
    "#list"
   ]
  },
  {
   "cell_type": "code",
   "execution_count": 2,
   "id": "737cf72f",
   "metadata": {},
   "outputs": [],
   "source": [
    "#list is mutable and write it with suare bracket"
   ]
  },
  {
   "cell_type": "code",
   "execution_count": 3,
   "id": "8ba13667",
   "metadata": {},
   "outputs": [],
   "source": [
    "l1=[1,'sparta',3.14,True]"
   ]
  },
  {
   "cell_type": "code",
   "execution_count": 4,
   "id": "d6dd58ab",
   "metadata": {},
   "outputs": [
    {
     "data": {
      "text/plain": [
       "[1, 'sparta', 3.14, True]"
      ]
     },
     "execution_count": 4,
     "metadata": {},
     "output_type": "execute_result"
    }
   ],
   "source": [
    "l1"
   ]
  },
  {
   "cell_type": "code",
   "execution_count": 5,
   "id": "99cba8dc",
   "metadata": {},
   "outputs": [
    {
     "data": {
      "text/plain": [
       "list"
      ]
     },
     "execution_count": 5,
     "metadata": {},
     "output_type": "execute_result"
    }
   ],
   "source": [
    "type(l1)"
   ]
  },
  {
   "cell_type": "code",
   "execution_count": 6,
   "id": "c055470a",
   "metadata": {},
   "outputs": [
    {
     "data": {
      "text/plain": [
       "'sparta'"
      ]
     },
     "execution_count": 6,
     "metadata": {},
     "output_type": "execute_result"
    }
   ],
   "source": [
    "l1[1]"
   ]
  },
  {
   "cell_type": "code",
   "execution_count": 8,
   "id": "900edca2",
   "metadata": {},
   "outputs": [
    {
     "data": {
      "text/plain": [
       "[1, 'sparta', 3.14]"
      ]
     },
     "execution_count": 8,
     "metadata": {},
     "output_type": "execute_result"
    }
   ],
   "source": [
    "l1[0:3]"
   ]
  },
  {
   "cell_type": "code",
   "execution_count": 9,
   "id": "c4d9641d",
   "metadata": {},
   "outputs": [],
   "source": [
    "l1[0]=100"
   ]
  },
  {
   "cell_type": "code",
   "execution_count": 10,
   "id": "0dc244ab",
   "metadata": {},
   "outputs": [
    {
     "data": {
      "text/plain": [
       "[100, 'sparta', 3.14, True]"
      ]
     },
     "execution_count": 10,
     "metadata": {},
     "output_type": "execute_result"
    }
   ],
   "source": [
    "l1"
   ]
  },
  {
   "cell_type": "code",
   "execution_count": 12,
   "id": "8f50d12d",
   "metadata": {},
   "outputs": [],
   "source": [
    "l1.append(\"ravinder\")"
   ]
  },
  {
   "cell_type": "markdown",
   "id": "cd9662a4",
   "metadata": {},
   "source": [
    "l1"
   ]
  },
  {
   "cell_type": "code",
   "execution_count": 13,
   "id": "1d627309",
   "metadata": {},
   "outputs": [
    {
     "data": {
      "text/plain": [
       "[100, 'sparta', 3.14, True, 'ravinder']"
      ]
     },
     "execution_count": 13,
     "metadata": {},
     "output_type": "execute_result"
    }
   ],
   "source": [
    "l1"
   ]
  },
  {
   "cell_type": "code",
   "execution_count": 14,
   "id": "39fdaf45",
   "metadata": {},
   "outputs": [
    {
     "data": {
      "text/plain": [
       "'ravinder'"
      ]
     },
     "execution_count": 14,
     "metadata": {},
     "output_type": "execute_result"
    }
   ],
   "source": [
    "l1.pop()"
   ]
  },
  {
   "cell_type": "code",
   "execution_count": 15,
   "id": "112230f6",
   "metadata": {},
   "outputs": [
    {
     "data": {
      "text/plain": [
       "[100, 'sparta', 3.14, True]"
      ]
     },
     "execution_count": 15,
     "metadata": {},
     "output_type": "execute_result"
    }
   ],
   "source": [
    "l1"
   ]
  },
  {
   "cell_type": "code",
   "execution_count": 16,
   "id": "0e276b63",
   "metadata": {},
   "outputs": [],
   "source": [
    "l1.reverse()"
   ]
  },
  {
   "cell_type": "code",
   "execution_count": 17,
   "id": "5d7ef5d0",
   "metadata": {},
   "outputs": [
    {
     "data": {
      "text/plain": [
       "[True, 3.14, 'sparta', 100]"
      ]
     },
     "execution_count": 17,
     "metadata": {},
     "output_type": "execute_result"
    }
   ],
   "source": [
    "l1"
   ]
  },
  {
   "cell_type": "code",
   "execution_count": 18,
   "id": "e6f5c84d",
   "metadata": {},
   "outputs": [],
   "source": [
    "l1.insert(1,\"ravinder\")"
   ]
  },
  {
   "cell_type": "code",
   "execution_count": 19,
   "id": "23011857",
   "metadata": {},
   "outputs": [
    {
     "data": {
      "text/plain": [
       "[True, 'ravinder', 3.14, 'sparta', 100]"
      ]
     },
     "execution_count": 19,
     "metadata": {},
     "output_type": "execute_result"
    }
   ],
   "source": [
    "l1"
   ]
  },
  {
   "cell_type": "code",
   "execution_count": 20,
   "id": "b783221a",
   "metadata": {},
   "outputs": [],
   "source": [
    "l1=[\"mango\",\"apple\",\"banana\",\"grapes\"]"
   ]
  },
  {
   "cell_type": "code",
   "execution_count": 21,
   "id": "8afd60e7",
   "metadata": {},
   "outputs": [],
   "source": [
    "l1.sort()"
   ]
  },
  {
   "cell_type": "code",
   "execution_count": 22,
   "id": "310a929a",
   "metadata": {},
   "outputs": [
    {
     "data": {
      "text/plain": [
       "['apple', 'banana', 'grapes', 'mango']"
      ]
     },
     "execution_count": 22,
     "metadata": {},
     "output_type": "execute_result"
    }
   ],
   "source": [
    "l1"
   ]
  },
  {
   "cell_type": "markdown",
   "id": "36d3971a",
   "metadata": {},
   "source": []
  },
  {
   "cell_type": "code",
   "execution_count": 23,
   "id": "3870acff",
   "metadata": {},
   "outputs": [],
   "source": [
    "l2=[1,2,3,4,5,6,7]"
   ]
  },
  {
   "cell_type": "code",
   "execution_count": 24,
   "id": "072932e3",
   "metadata": {},
   "outputs": [
    {
     "data": {
      "text/plain": [
       "[1, 2, 3, 4, 5, 6, 7]"
      ]
     },
     "execution_count": 24,
     "metadata": {},
     "output_type": "execute_result"
    }
   ],
   "source": [
    "l2"
   ]
  },
  {
   "cell_type": "code",
   "execution_count": 25,
   "id": "27d992be",
   "metadata": {},
   "outputs": [
    {
     "data": {
      "text/plain": [
       "['apple', 'banana', 'grapes', 'mango', 1, 2, 3, 4, 5, 6, 7]"
      ]
     },
     "execution_count": 25,
     "metadata": {},
     "output_type": "execute_result"
    }
   ],
   "source": [
    "l1+l2"
   ]
  },
  {
   "cell_type": "code",
   "execution_count": 27,
   "id": "eef45f41",
   "metadata": {},
   "outputs": [
    {
     "data": {
      "text/plain": [
       "[1,\n",
       " 2,\n",
       " 3,\n",
       " 4,\n",
       " 5,\n",
       " 6,\n",
       " 7,\n",
       " 1,\n",
       " 2,\n",
       " 3,\n",
       " 4,\n",
       " 5,\n",
       " 6,\n",
       " 7,\n",
       " 1,\n",
       " 2,\n",
       " 3,\n",
       " 4,\n",
       " 5,\n",
       " 6,\n",
       " 7,\n",
       " 1,\n",
       " 2,\n",
       " 3,\n",
       " 4,\n",
       " 5,\n",
       " 6,\n",
       " 7,\n",
       " 1,\n",
       " 2,\n",
       " 3,\n",
       " 4,\n",
       " 5,\n",
       " 6,\n",
       " 7,\n",
       " 'apple',\n",
       " 'banana',\n",
       " 'grapes',\n",
       " 'mango']"
      ]
     },
     "execution_count": 27,
     "metadata": {},
     "output_type": "execute_result"
    }
   ],
   "source": [
    "l2*5+l1"
   ]
  },
  {
   "cell_type": "code",
   "execution_count": 28,
   "id": "15c092aa",
   "metadata": {},
   "outputs": [],
   "source": [
    "#dictionary"
   ]
  },
  {
   "cell_type": "code",
   "execution_count": 29,
   "id": "fdd5973d",
   "metadata": {},
   "outputs": [],
   "source": [
    "fruit={\"apple\":10,\"orange\":20}"
   ]
  },
  {
   "cell_type": "code",
   "execution_count": 30,
   "id": "58b89866",
   "metadata": {},
   "outputs": [
    {
     "data": {
      "text/plain": [
       "{'apple': 10, 'orange': 20}"
      ]
     },
     "execution_count": 30,
     "metadata": {},
     "output_type": "execute_result"
    }
   ],
   "source": [
    "fruit"
   ]
  },
  {
   "cell_type": "code",
   "execution_count": 32,
   "id": "89bca4ad",
   "metadata": {},
   "outputs": [
    {
     "data": {
      "text/plain": [
       "dict"
      ]
     },
     "execution_count": 32,
     "metadata": {},
     "output_type": "execute_result"
    }
   ],
   "source": [
    "type(fruit)"
   ]
  },
  {
   "cell_type": "code",
   "execution_count": 34,
   "id": "fb3446e3",
   "metadata": {},
   "outputs": [
    {
     "data": {
      "text/plain": [
       "dict_keys(['apple', 'orange'])"
      ]
     },
     "execution_count": 34,
     "metadata": {},
     "output_type": "execute_result"
    }
   ],
   "source": [
    "fruit.keys()"
   ]
  },
  {
   "cell_type": "code",
   "execution_count": 35,
   "id": "f30882af",
   "metadata": {},
   "outputs": [
    {
     "data": {
      "text/plain": [
       "dict_values([10, 20])"
      ]
     },
     "execution_count": 35,
     "metadata": {},
     "output_type": "execute_result"
    }
   ],
   "source": [
    "fruit.values()"
   ]
  },
  {
   "cell_type": "code",
   "execution_count": 36,
   "id": "81c5fe35",
   "metadata": {},
   "outputs": [
    {
     "data": {
      "text/plain": [
       "{'apple': 10, 'orange': 20, 'mango': 100}"
      ]
     },
     "execution_count": 36,
     "metadata": {},
     "output_type": "execute_result"
    }
   ],
   "source": [
    "fruit[\"mango\"]=100\n",
    "fruit"
   ]
  },
  {
   "cell_type": "code",
   "execution_count": 37,
   "id": "34d8aaf8",
   "metadata": {},
   "outputs": [],
   "source": [
    "fruit[\"guava\"]=200"
   ]
  },
  {
   "cell_type": "code",
   "execution_count": 38,
   "id": "e231c65a",
   "metadata": {},
   "outputs": [
    {
     "data": {
      "text/plain": [
       "{'apple': 10, 'orange': 20, 'mango': 100, 'guava': 200}"
      ]
     },
     "execution_count": 38,
     "metadata": {},
     "output_type": "execute_result"
    }
   ],
   "source": [
    "fruit"
   ]
  },
  {
   "cell_type": "code",
   "execution_count": 39,
   "id": "39cd9602",
   "metadata": {},
   "outputs": [
    {
     "data": {
      "text/plain": [
       "{'apple': 100, 'orange': 20, 'mango': 100, 'guava': 200}"
      ]
     },
     "execution_count": 39,
     "metadata": {},
     "output_type": "execute_result"
    }
   ],
   "source": [
    "fruit[\"apple\"]=100\n",
    "fruit"
   ]
  },
  {
   "cell_type": "code",
   "execution_count": 40,
   "id": "483e71c7",
   "metadata": {},
   "outputs": [],
   "source": [
    "fruit1={\"apple\":10,\"orange\":20}\n",
    "fruit2={\"mango\":50,\"guava\":30}\n",
    "fruit1.update(fruit2)"
   ]
  },
  {
   "cell_type": "code",
   "execution_count": 41,
   "id": "2007bae9",
   "metadata": {},
   "outputs": [
    {
     "data": {
      "text/plain": [
       "{'apple': 10, 'orange': 20, 'mango': 50, 'guava': 30}"
      ]
     },
     "execution_count": 41,
     "metadata": {},
     "output_type": "execute_result"
    }
   ],
   "source": [
    "fruit1"
   ]
  },
  {
   "cell_type": "code",
   "execution_count": 42,
   "id": "6eaccf02",
   "metadata": {},
   "outputs": [],
   "source": [
    "fruit={'apple': 10, 'orange': 20, 'mango': 50, 'guava': 30}"
   ]
  },
  {
   "cell_type": "code",
   "execution_count": 44,
   "id": "a01268da",
   "metadata": {},
   "outputs": [
    {
     "data": {
      "text/plain": [
       "{'apple': 10, 'orange': 20, 'mango': 50, 'guava': 30}"
      ]
     },
     "execution_count": 44,
     "metadata": {},
     "output_type": "execute_result"
    }
   ],
   "source": [
    "fruit"
   ]
  },
  {
   "cell_type": "code",
   "execution_count": 45,
   "id": "f90c214c",
   "metadata": {},
   "outputs": [
    {
     "data": {
      "text/plain": [
       "50"
      ]
     },
     "execution_count": 45,
     "metadata": {},
     "output_type": "execute_result"
    }
   ],
   "source": [
    "fruit.pop(\"mango\")"
   ]
  },
  {
   "cell_type": "code",
   "execution_count": 46,
   "id": "cd9032a6",
   "metadata": {},
   "outputs": [
    {
     "data": {
      "text/plain": [
       "{'apple': 10, 'orange': 20, 'guava': 30}"
      ]
     },
     "execution_count": 46,
     "metadata": {},
     "output_type": "execute_result"
    }
   ],
   "source": [
    "fruit"
   ]
  },
  {
   "cell_type": "code",
   "execution_count": 47,
   "id": "86ba0d15",
   "metadata": {},
   "outputs": [],
   "source": [
    "#set"
   ]
  },
  {
   "cell_type": "code",
   "execution_count": 48,
   "id": "cd8a50f0",
   "metadata": {},
   "outputs": [
    {
     "data": {
      "text/plain": [
       "{1, 3.14, 'sparta'}"
      ]
     },
     "execution_count": 48,
     "metadata": {},
     "output_type": "execute_result"
    }
   ],
   "source": [
    "s1={1,3.14,\"sparta\"}\n",
    "s1"
   ]
  },
  {
   "cell_type": "code",
   "execution_count": 49,
   "id": "1bf7a7f9",
   "metadata": {},
   "outputs": [],
   "source": [
    "s1.add(\"hello\")"
   ]
  },
  {
   "cell_type": "code",
   "execution_count": 50,
   "id": "3f1f4bd3",
   "metadata": {},
   "outputs": [
    {
     "data": {
      "text/plain": [
       "{1, 3.14, 'hello', 'sparta'}"
      ]
     },
     "execution_count": 50,
     "metadata": {},
     "output_type": "execute_result"
    }
   ],
   "source": [
    "s1"
   ]
  },
  {
   "cell_type": "code",
   "execution_count": 53,
   "id": "e79506cd",
   "metadata": {},
   "outputs": [],
   "source": [
    "s1.update([10,20,30])"
   ]
  },
  {
   "cell_type": "code",
   "execution_count": 54,
   "id": "8b60305c",
   "metadata": {},
   "outputs": [
    {
     "data": {
      "text/plain": [
       "{1, 10, 20, 3.14, 30, 'hello', 'sparta'}"
      ]
     },
     "execution_count": 54,
     "metadata": {},
     "output_type": "execute_result"
    }
   ],
   "source": [
    "s1"
   ]
  },
  {
   "cell_type": "code",
   "execution_count": 55,
   "id": "dd44db47",
   "metadata": {},
   "outputs": [],
   "source": [
    "s1.remove(\"hello\")"
   ]
  },
  {
   "cell_type": "code",
   "execution_count": 56,
   "id": "2ec5abe7",
   "metadata": {},
   "outputs": [
    {
     "data": {
      "text/plain": [
       "{1, 10, 20, 3.14, 30, 'sparta'}"
      ]
     },
     "execution_count": 56,
     "metadata": {},
     "output_type": "execute_result"
    }
   ],
   "source": [
    "s1"
   ]
  },
  {
   "cell_type": "code",
   "execution_count": 61,
   "id": "9c0d30c8",
   "metadata": {},
   "outputs": [
    {
     "data": {
      "text/plain": [
       "{1, 10, 'a', 'b', 'c'}"
      ]
     },
     "execution_count": 61,
     "metadata": {},
     "output_type": "execute_result"
    }
   ],
   "source": [
    "s2={\"a\",\"b\",\"c\",1,10}\n",
    "s2"
   ]
  },
  {
   "cell_type": "code",
   "execution_count": 62,
   "id": "a0b64563",
   "metadata": {},
   "outputs": [
    {
     "data": {
      "text/plain": [
       "{1, 10, 20, 3.14, 30, 'a', 'b', 'c', 'sparta'}"
      ]
     },
     "execution_count": 62,
     "metadata": {},
     "output_type": "execute_result"
    }
   ],
   "source": [
    "s1.union(s2)"
   ]
  },
  {
   "cell_type": "code",
   "execution_count": 63,
   "id": "33bd2f4a",
   "metadata": {},
   "outputs": [
    {
     "data": {
      "text/plain": [
       "{1, 10}"
      ]
     },
     "execution_count": 63,
     "metadata": {},
     "output_type": "execute_result"
    }
   ],
   "source": [
    "s1.intersection(s2)"
   ]
  },
  {
   "cell_type": "code",
   "execution_count": 64,
   "id": "4338ee26",
   "metadata": {},
   "outputs": [],
   "source": [
    "a=10\n",
    "b=20"
   ]
  },
  {
   "cell_type": "code",
   "execution_count": 65,
   "id": "3ac8838a",
   "metadata": {},
   "outputs": [
    {
     "name": "stdout",
     "output_type": "stream",
     "text": [
      "b is greater than a\n"
     ]
    }
   ],
   "source": [
    "if b>a:\n",
    "    print(\"b is greater than a\")"
   ]
  },
  {
   "cell_type": "code",
   "execution_count": 68,
   "id": "5915bcf7",
   "metadata": {},
   "outputs": [],
   "source": [
    "if a>b:\n",
    "    print(\"a is greater than b\")"
   ]
  },
  {
   "cell_type": "code",
   "execution_count": 69,
   "id": "7605af80",
   "metadata": {},
   "outputs": [
    {
     "name": "stdout",
     "output_type": "stream",
     "text": [
      "b is greater than a\n"
     ]
    }
   ],
   "source": [
    "if a>b:\n",
    "    print(\"a is greater than b\")\n",
    "else:\n",
    "    print(\"b is greater than a\")"
   ]
  },
  {
   "cell_type": "code",
   "execution_count": 70,
   "id": "238d5672",
   "metadata": {},
   "outputs": [
    {
     "name": "stdout",
     "output_type": "stream",
     "text": [
      "c is the greatest\n"
     ]
    }
   ],
   "source": [
    "a=10\n",
    "b=20\n",
    "c=30\n",
    "if(a>b)&(a>c):\n",
    "    print(\"a is the greatest\")\n",
    "elif(b>a)&(b>c):\n",
    "    print(\"b is the greatest\")\n",
    "else:\n",
    "    print(\"c is the greatest\")\n",
    "                    "
   ]
  },
  {
   "cell_type": "code",
   "execution_count": 71,
   "id": "39e8c40a",
   "metadata": {},
   "outputs": [
    {
     "name": "stdout",
     "output_type": "stream",
     "text": [
      "a is the greatest\n"
     ]
    }
   ],
   "source": [
    "a=50\n",
    "b=20\n",
    "c=30\n",
    "if(a>b)&(a>c):\n",
    "    print(\"a is the greatest\")\n",
    "elif(b>a)&(b>c):\n",
    "    print(\"b is the greatest\")\n",
    "else:\n",
    "    print(\"c is the greatest\")"
   ]
  },
  {
   "cell_type": "code",
   "execution_count": 72,
   "id": "057b1afb",
   "metadata": {},
   "outputs": [
    {
     "name": "stdout",
     "output_type": "stream",
     "text": [
      "b is the greatest\n"
     ]
    }
   ],
   "source": [
    "a=10\n",
    "b=100\n",
    "c=30\n",
    "if(a>b)&(a>c):\n",
    "    print(\"a is the greatest\")\n",
    "elif(b>a)&(b>c):\n",
    "    print(\"b is the greatest\")\n",
    "else:\n",
    "    print(\"c is the greatest\")"
   ]
  },
  {
   "cell_type": "code",
   "execution_count": 73,
   "id": "1da59304",
   "metadata": {},
   "outputs": [],
   "source": [
    "#if with tupil"
   ]
  },
  {
   "cell_type": "code",
   "execution_count": 78,
   "id": "a61bc878",
   "metadata": {},
   "outputs": [
    {
     "name": "stdout",
     "output_type": "stream",
     "text": [
      "value e is present in tup1\n"
     ]
    }
   ],
   "source": [
    "tup1=('a','b','c')\n",
    "if 'e' in tup1:\n",
    "    print(\"value e is present in tup1\")"
   ]
  },
  {
   "cell_type": "code",
   "execution_count": 79,
   "id": "5e5a3b81",
   "metadata": {},
   "outputs": [
    {
     "name": "stdout",
     "output_type": "stream",
     "text": [
      "e is not present in tup1\n"
     ]
    }
   ],
   "source": [
    "tup1=('a','b','c')\n",
    "if 'e' in tup1:\n",
    "    print(\"value e is present in tup1\")\n",
    "else:\n",
    "    print(\"e is not present in tup1\")"
   ]
  },
  {
   "cell_type": "code",
   "execution_count": 80,
   "id": "6c3d814c",
   "metadata": {},
   "outputs": [],
   "source": [
    "#if with list"
   ]
  },
  {
   "cell_type": "code",
   "execution_count": 81,
   "id": "a7f6906a",
   "metadata": {},
   "outputs": [],
   "source": [
    "l1=['a','b','c']"
   ]
  },
  {
   "cell_type": "code",
   "execution_count": 82,
   "id": "d74c9cb1",
   "metadata": {},
   "outputs": [
    {
     "data": {
      "text/plain": [
       "['a', 'b', 'c']"
      ]
     },
     "execution_count": 82,
     "metadata": {},
     "output_type": "execute_result"
    }
   ],
   "source": [
    "l1\n"
   ]
  },
  {
   "cell_type": "code",
   "execution_count": 83,
   "id": "be81970f",
   "metadata": {},
   "outputs": [],
   "source": [
    "if l1[1]=='b':\n",
    "    l1[1]='zoo'\n"
   ]
  },
  {
   "cell_type": "code",
   "execution_count": 84,
   "id": "a4d2ade4",
   "metadata": {},
   "outputs": [
    {
     "data": {
      "text/plain": [
       "['a', 'zoo', 'c']"
      ]
     },
     "execution_count": 84,
     "metadata": {},
     "output_type": "execute_result"
    }
   ],
   "source": [
    "l1"
   ]
  },
  {
   "cell_type": "code",
   "execution_count": 85,
   "id": "b5d57349",
   "metadata": {},
   "outputs": [],
   "source": [
    "#if with dict"
   ]
  },
  {
   "cell_type": "code",
   "execution_count": 86,
   "id": "fd7e9435",
   "metadata": {},
   "outputs": [],
   "source": [
    "d1={\"k1\":20,\"k2\":30,\"k3\":100}"
   ]
  },
  {
   "cell_type": "code",
   "execution_count": 87,
   "id": "e9a920e7",
   "metadata": {},
   "outputs": [
    {
     "data": {
      "text/plain": [
       "{'k1': 20, 'k2': 30, 'k3': 100}"
      ]
     },
     "execution_count": 87,
     "metadata": {},
     "output_type": "execute_result"
    }
   ],
   "source": [
    "d1"
   ]
  },
  {
   "cell_type": "code",
   "execution_count": 89,
   "id": "c2817d69",
   "metadata": {},
   "outputs": [],
   "source": [
    "if d1[\"k3\"]==100:\n",
    "    d1[\"k3\"]=d1[\"k3\"]+100\n"
   ]
  },
  {
   "cell_type": "code",
   "execution_count": 90,
   "id": "6b6ef7e5",
   "metadata": {},
   "outputs": [
    {
     "data": {
      "text/plain": [
       "{'k1': 20, 'k2': 30, 'k3': 200}"
      ]
     },
     "execution_count": 90,
     "metadata": {},
     "output_type": "execute_result"
    }
   ],
   "source": [
    "d1"
   ]
  },
  {
   "cell_type": "code",
   "execution_count": 91,
   "id": "a9c741b0",
   "metadata": {},
   "outputs": [],
   "source": [
    "#while loop"
   ]
  },
  {
   "cell_type": "code",
   "execution_count": 94,
   "id": "f1a37992",
   "metadata": {},
   "outputs": [
    {
     "name": "stdout",
     "output_type": "stream",
     "text": [
      "1\n",
      "2\n",
      "3\n",
      "4\n",
      "5\n",
      "6\n",
      "7\n",
      "8\n",
      "9\n",
      "10\n"
     ]
    }
   ],
   "source": [
    "i=1\n",
    "while i<=10:\n",
    "    print(i)\n",
    "    i=i+1"
   ]
  },
  {
   "cell_type": "code",
   "execution_count": 96,
   "id": "dafc60e9",
   "metadata": {},
   "outputs": [
    {
     "name": "stdout",
     "output_type": "stream",
     "text": [
      "19\n",
      "38\n",
      "57\n",
      "76\n",
      "95\n",
      "114\n",
      "133\n",
      "152\n",
      "171\n",
      "190\n"
     ]
    }
   ],
   "source": [
    "i=19\n",
    "while i<=190:\n",
    "    print(i)\n",
    "    i=i+19"
   ]
  },
  {
   "cell_type": "code",
   "execution_count": 100,
   "id": "43045797",
   "metadata": {},
   "outputs": [
    {
     "name": "stdout",
     "output_type": "stream",
     "text": [
      "2 * 1 = 2\n",
      "2 * 2 = 4\n",
      "2 * 3 = 6\n",
      "2 * 4 = 8\n",
      "2 * 5 = 10\n",
      "2 * 6 = 12\n",
      "2 * 7 = 14\n",
      "2 * 8 = 16\n",
      "2 * 9 = 18\n",
      "2 * 10 = 20\n"
     ]
    }
   ],
   "source": [
    "i=1\n",
    "n=2\n",
    "while i<=10:\n",
    "    print(n,\"*\",i,'=', n*i)\n",
    "    i=i+1"
   ]
  },
  {
   "cell_type": "code",
   "execution_count": 1,
   "id": "3cb7581b",
   "metadata": {},
   "outputs": [],
   "source": [
    "#while with list"
   ]
  },
  {
   "cell_type": "code",
   "execution_count": 2,
   "id": "8d403cc8",
   "metadata": {},
   "outputs": [],
   "source": [
    "l1=[1,2,3,4,5,6,7]"
   ]
  },
  {
   "cell_type": "code",
   "execution_count": 3,
   "id": "7a4b80bc",
   "metadata": {},
   "outputs": [
    {
     "data": {
      "text/plain": [
       "[1, 2, 3, 4, 5, 6, 7]"
      ]
     },
     "execution_count": 3,
     "metadata": {},
     "output_type": "execute_result"
    }
   ],
   "source": [
    "l1"
   ]
  },
  {
   "cell_type": "code",
   "execution_count": 5,
   "id": "7ed6740e",
   "metadata": {},
   "outputs": [
    {
     "data": {
      "text/plain": [
       "7"
      ]
     },
     "execution_count": 5,
     "metadata": {},
     "output_type": "execute_result"
    }
   ],
   "source": [
    "len(l1)"
   ]
  },
  {
   "cell_type": "code",
   "execution_count": 4,
   "id": "3e7b8f22",
   "metadata": {},
   "outputs": [],
   "source": [
    "i=0"
   ]
  },
  {
   "cell_type": "code",
   "execution_count": 6,
   "id": "93858318",
   "metadata": {},
   "outputs": [],
   "source": [
    "while i<len(l1):\n",
    "    l1[i]=l1[i]+100\n",
    "    i=i+1\n"
   ]
  },
  {
   "cell_type": "code",
   "execution_count": 7,
   "id": "d39504e7",
   "metadata": {},
   "outputs": [
    {
     "data": {
      "text/plain": [
       "[101, 102, 103, 104, 105, 106, 107]"
      ]
     },
     "execution_count": 7,
     "metadata": {},
     "output_type": "execute_result"
    }
   ],
   "source": [
    "l1"
   ]
  },
  {
   "cell_type": "code",
   "execution_count": 8,
   "id": "a227e317",
   "metadata": {},
   "outputs": [],
   "source": [
    "#for loop for sequence"
   ]
  },
  {
   "cell_type": "code",
   "execution_count": 13,
   "id": "16671df3",
   "metadata": {},
   "outputs": [],
   "source": [
    "l1 = ['mango','apple','banana','grapes']"
   ]
  },
  {
   "cell_type": "code",
   "execution_count": 15,
   "id": "31df572a",
   "metadata": {},
   "outputs": [
    {
     "name": "stdout",
     "output_type": "stream",
     "text": [
      "mango\n",
      "apple\n",
      "banana\n",
      "grapes\n"
     ]
    }
   ],
   "source": [
    "for i in l1:\n",
    "    print(i)"
   ]
  },
  {
   "cell_type": "code",
   "execution_count": 16,
   "id": "e3b42326",
   "metadata": {},
   "outputs": [],
   "source": [
    "l1 = ['mango','apple','banana','grapes']\n",
    "l2=['chair','shoe','table','chair']"
   ]
  },
  {
   "cell_type": "code",
   "execution_count": 17,
   "id": "02e01bd2",
   "metadata": {},
   "outputs": [
    {
     "name": "stdout",
     "output_type": "stream",
     "text": [
      "mango chair\n",
      "mango shoe\n",
      "mango table\n",
      "mango chair\n",
      "apple chair\n",
      "apple shoe\n",
      "apple table\n",
      "apple chair\n",
      "banana chair\n",
      "banana shoe\n",
      "banana table\n",
      "banana chair\n",
      "grapes chair\n",
      "grapes shoe\n",
      "grapes table\n",
      "grapes chair\n"
     ]
    }
   ],
   "source": [
    "for i in l1:\n",
    "    for j in l2:\n",
    "        print(i,j)"
   ]
  },
  {
   "cell_type": "code",
   "execution_count": 18,
   "id": "4d9022e0",
   "metadata": {},
   "outputs": [],
   "source": [
    "#function "
   ]
  },
  {
   "cell_type": "code",
   "execution_count": 19,
   "id": "b3bc81a0",
   "metadata": {},
   "outputs": [],
   "source": [
    "def hello():\n",
    "    print(\"hello world\")"
   ]
  },
  {
   "cell_type": "code",
   "execution_count": 20,
   "id": "319ec2f1",
   "metadata": {},
   "outputs": [
    {
     "name": "stdout",
     "output_type": "stream",
     "text": [
      "hello world\n"
     ]
    }
   ],
   "source": [
    "hello()"
   ]
  },
  {
   "cell_type": "code",
   "execution_count": 21,
   "id": "33d81443",
   "metadata": {},
   "outputs": [],
   "source": [
    "def add_10(x):\n",
    "    return x+10\n",
    "         "
   ]
  },
  {
   "cell_type": "code",
   "execution_count": 22,
   "id": "3daa3682",
   "metadata": {},
   "outputs": [
    {
     "data": {
      "text/plain": [
       "19"
      ]
     },
     "execution_count": 22,
     "metadata": {},
     "output_type": "execute_result"
    }
   ],
   "source": [
    "add_10(9)"
   ]
  },
  {
   "cell_type": "code",
   "execution_count": 30,
   "id": "3d1a357a",
   "metadata": {},
   "outputs": [],
   "source": [
    "def odd_even(x):\n",
    "    if x%2==0:\n",
    "        print(x,\"is even\")\n",
    "    else:\n",
    "        print(x,\"is odd\")\n",
    "        "
   ]
  },
  {
   "cell_type": "code",
   "execution_count": 31,
   "id": "8e415c0b",
   "metadata": {},
   "outputs": [
    {
     "name": "stdout",
     "output_type": "stream",
     "text": [
      "10 is even\n"
     ]
    }
   ],
   "source": [
    "odd_even(10)"
   ]
  },
  {
   "cell_type": "code",
   "execution_count": 32,
   "id": "445ed0ef",
   "metadata": {},
   "outputs": [],
   "source": [
    "#lambda"
   ]
  },
  {
   "cell_type": "code",
   "execution_count": 33,
   "id": "b188d23e",
   "metadata": {},
   "outputs": [],
   "source": [
    "g=lambda x: x*x*x"
   ]
  },
  {
   "cell_type": "code",
   "execution_count": 34,
   "id": "1c76b8dd",
   "metadata": {},
   "outputs": [
    {
     "data": {
      "text/plain": [
       "343"
      ]
     },
     "execution_count": 34,
     "metadata": {},
     "output_type": "execute_result"
    }
   ],
   "source": [
    "g(7)"
   ]
  },
  {
   "cell_type": "code",
   "execution_count": 35,
   "id": "bb556a0f",
   "metadata": {},
   "outputs": [
    {
     "data": {
      "text/plain": [
       "125"
      ]
     },
     "execution_count": 35,
     "metadata": {},
     "output_type": "execute_result"
    }
   ],
   "source": [
    "g(5)"
   ]
  },
  {
   "cell_type": "code",
   "execution_count": 36,
   "id": "b220482b",
   "metadata": {},
   "outputs": [],
   "source": [
    "#lambda with filter"
   ]
  },
  {
   "cell_type": "code",
   "execution_count": 1,
   "id": "f01cb86f",
   "metadata": {},
   "outputs": [],
   "source": [
    "l1 = [87,91,54,76,67]\n",
    "final_list=list(filter(lambda x:(x%2!=0),l1))"
   ]
  },
  {
   "cell_type": "code",
   "execution_count": 2,
   "id": "b1e826a8",
   "metadata": {},
   "outputs": [
    {
     "data": {
      "text/plain": [
       "[87, 91, 67]"
      ]
     },
     "execution_count": 2,
     "metadata": {},
     "output_type": "execute_result"
    }
   ],
   "source": [
    "final_list"
   ]
  },
  {
   "cell_type": "code",
   "execution_count": 3,
   "id": "48d33b31",
   "metadata": {},
   "outputs": [],
   "source": [
    "#lambda  with map"
   ]
  },
  {
   "cell_type": "code",
   "execution_count": 4,
   "id": "8a032389",
   "metadata": {},
   "outputs": [],
   "source": [
    "l1=[1,2,3,4,5,6,7,8,9,0]"
   ]
  },
  {
   "cell_type": "code",
   "execution_count": 5,
   "id": "64338ae6",
   "metadata": {},
   "outputs": [],
   "source": [
    "list_final_new=list(map(lambda x: x*2,l1))"
   ]
  },
  {
   "cell_type": "code",
   "execution_count": 6,
   "id": "e09f9802",
   "metadata": {},
   "outputs": [
    {
     "data": {
      "text/plain": [
       "[2, 4, 6, 8, 10, 12, 14, 16, 18, 0]"
      ]
     },
     "execution_count": 6,
     "metadata": {},
     "output_type": "execute_result"
    }
   ],
   "source": [
    "list_final_new"
   ]
  },
  {
   "cell_type": "code",
   "execution_count": 7,
   "id": "0001c63a",
   "metadata": {},
   "outputs": [],
   "source": [
    "#reduce "
   ]
  },
  {
   "cell_type": "code",
   "execution_count": 8,
   "id": "566bdc37",
   "metadata": {},
   "outputs": [],
   "source": [
    "from functools import reduce "
   ]
  },
  {
   "cell_type": "code",
   "execution_count": 9,
   "id": "43519b55",
   "metadata": {},
   "outputs": [],
   "source": [
    "sum = reduce(lambda x,y:x+y,l1)"
   ]
  },
  {
   "cell_type": "code",
   "execution_count": 10,
   "id": "c33467e6",
   "metadata": {},
   "outputs": [
    {
     "data": {
      "text/plain": [
       "45"
      ]
     },
     "execution_count": 10,
     "metadata": {},
     "output_type": "execute_result"
    }
   ],
   "source": [
    "sum"
   ]
  },
  {
   "cell_type": "code",
   "execution_count": 11,
   "id": "bfc761ce",
   "metadata": {},
   "outputs": [],
   "source": [
    "#00ps"
   ]
  },
  {
   "cell_type": "code",
   "execution_count": 17,
   "id": "d0b44293",
   "metadata": {},
   "outputs": [],
   "source": [
    "class Phone:\n",
    "    def make_call(self):\n",
    "        print(\"making phone call\")\n",
    "    def play_game(self):\n",
    "        print(\"playing game\")"
   ]
  },
  {
   "cell_type": "code",
   "execution_count": 18,
   "id": "74cf33aa",
   "metadata": {},
   "outputs": [],
   "source": [
    "p1=phone()"
   ]
  },
  {
   "cell_type": "code",
   "execution_count": 19,
   "id": "93e8d50b",
   "metadata": {},
   "outputs": [
    {
     "name": "stdout",
     "output_type": "stream",
     "text": [
      "making phone call\n"
     ]
    }
   ],
   "source": [
    "p1.make_call()"
   ]
  },
  {
   "cell_type": "code",
   "execution_count": 20,
   "id": "7afe3f8c",
   "metadata": {},
   "outputs": [
    {
     "name": "stdout",
     "output_type": "stream",
     "text": [
      "playing game\n"
     ]
    }
   ],
   "source": [
    "p1.play_game()"
   ]
  },
  {
   "cell_type": "code",
   "execution_count": 14,
   "id": "14ffa535",
   "metadata": {},
   "outputs": [],
   "source": [
    "class Phone: \n",
    "    def set_colour(self,color):\n",
    "         self.color=color \n",
    "    def set_cost(self,cost):\n",
    "        self.cost=cost\n",
    "    def show_color(self):\n",
    "        return self.color\n",
    "    def show_cost(self):\n",
    "        return self.cost\n",
    "    def make_call(self):\n",
    "        print(\"make a call\")\n",
    "    def play_game(self):\n",
    "        print (\"play a game\")\n",
    "        "
   ]
  },
  {
   "cell_type": "code",
   "execution_count": 8,
   "id": "80369fff",
   "metadata": {},
   "outputs": [],
   "source": [
    "p2 = Phone()"
   ]
  },
  {
   "cell_type": "code",
   "execution_count": 16,
   "id": "68bcc768",
   "metadata": {},
   "outputs": [
    {
     "ename": "AttributeError",
     "evalue": "'Phone' object has no attribute 'set_color'",
     "output_type": "error",
     "traceback": [
      "\u001b[1;31m---------------------------------------------------------------------------\u001b[0m",
      "\u001b[1;31mAttributeError\u001b[0m                            Traceback (most recent call last)",
      "Cell \u001b[1;32mIn[16], line 1\u001b[0m\n\u001b[1;32m----> 1\u001b[0m \u001b[43mp2\u001b[49m\u001b[38;5;241;43m.\u001b[39;49m\u001b[43mset_color\u001b[49m(\u001b[38;5;124m\"\u001b[39m\u001b[38;5;124mblue\u001b[39m\u001b[38;5;124m\"\u001b[39m)\n",
      "\u001b[1;31mAttributeError\u001b[0m: 'Phone' object has no attribute 'set_color'"
     ]
    }
   ],
   "source": [
    "p2.set_color(\"blue\")"
   ]
  },
  {
   "cell_type": "code",
   "execution_count": 10,
   "id": "d58d453c",
   "metadata": {},
   "outputs": [],
   "source": [
    "p2.set_cost(5000)"
   ]
  },
  {
   "cell_type": "code",
   "execution_count": 13,
   "id": "35ffc76d",
   "metadata": {},
   "outputs": [
    {
     "data": {
      "text/plain": [
       "5000"
      ]
     },
     "execution_count": 13,
     "metadata": {},
     "output_type": "execute_result"
    }
   ],
   "source": [
    "p2.show_cost()"
   ]
  },
  {
   "cell_type": "code",
   "execution_count": 18,
   "id": "719f215a",
   "metadata": {},
   "outputs": [
    {
     "name": "stdout",
     "output_type": "stream",
     "text": [
      "make a call\n"
     ]
    }
   ],
   "source": [
    "p2.make_call()"
   ]
  },
  {
   "cell_type": "code",
   "execution_count": 19,
   "id": "820188ab",
   "metadata": {},
   "outputs": [
    {
     "name": "stdout",
     "output_type": "stream",
     "text": [
      "play a game\n"
     ]
    }
   ],
   "source": [
    "p2.play_game()"
   ]
  },
  {
   "cell_type": "code",
   "execution_count": 20,
   "id": "98538f24",
   "metadata": {},
   "outputs": [],
   "source": [
    "class Employee:\n",
    "    def __inti__(self,name,age,salary,gender):\n",
    "        \n",
    "        self.name = name \n",
    "        self.age = age\n",
    "        self.salary = salary\n",
    "        self.gender = gender\n",
    "   \n",
    "    def employee_details(self):\n",
    "        print(\"name of employee is\",self.name)\n",
    "        print(\"age od employee is\",self.age)\n",
    "        print(\"salary of employee is\",self.salary)\n",
    "        print(\"gender of employee is \",self.gender)\n",
    "        \n",
    "    "
   ]
  },
  {
   "cell_type": "code",
   "execution_count": 21,
   "id": "f807272e",
   "metadata": {},
   "outputs": [
    {
     "ename": "TypeError",
     "evalue": "Employee() takes no arguments",
     "output_type": "error",
     "traceback": [
      "\u001b[1;31m---------------------------------------------------------------------------\u001b[0m",
      "\u001b[1;31mTypeError\u001b[0m                                 Traceback (most recent call last)",
      "Cell \u001b[1;32mIn[21], line 1\u001b[0m\n\u001b[1;32m----> 1\u001b[0m e1\u001b[38;5;241m=\u001b[39m\u001b[43mEmployee\u001b[49m\u001b[43m(\u001b[49m\u001b[38;5;124;43m'\u001b[39;49m\u001b[38;5;124;43msam\u001b[39;49m\u001b[38;5;124;43m'\u001b[39;49m\u001b[43m,\u001b[49m\u001b[38;5;241;43m32\u001b[39;49m\u001b[43m,\u001b[49m\u001b[38;5;241;43m85000\u001b[39;49m\u001b[43m,\u001b[49m\u001b[38;5;124;43m'\u001b[39;49m\u001b[38;5;124;43mMale\u001b[39;49m\u001b[38;5;124;43m'\u001b[39;49m\u001b[43m)\u001b[49m\n",
      "\u001b[1;31mTypeError\u001b[0m: Employee() takes no arguments"
     ]
    }
   ],
   "source": [
    "e1=Employee('sam',32,85000,'Male')"
   ]
  },
  {
   "cell_type": "code",
   "execution_count": 22,
   "id": "ab76ed1a",
   "metadata": {},
   "outputs": [],
   "source": [
    "#numpy"
   ]
  },
  {
   "cell_type": "code",
   "execution_count": 23,
   "id": "e8cb2e36",
   "metadata": {},
   "outputs": [
    {
     "data": {
      "text/plain": [
       "array([10, 20, 30, 40])"
      ]
     },
     "execution_count": 23,
     "metadata": {},
     "output_type": "execute_result"
    }
   ],
   "source": [
    "import numpy as np\n",
    "n1=np.array([10,20,30,40])\n",
    "n1"
   ]
  },
  {
   "cell_type": "code",
   "execution_count": 24,
   "id": "50b85f14",
   "metadata": {},
   "outputs": [
    {
     "data": {
      "text/plain": [
       "array([[10, 20, 30, 40],\n",
       "       [40, 30, 20, 10]])"
      ]
     },
     "execution_count": 24,
     "metadata": {},
     "output_type": "execute_result"
    }
   ],
   "source": [
    "import numpy as np\n",
    "n2=np.array([[10,20,30,40],[40,30,20,10]])\n",
    "n2"
   ]
  },
  {
   "cell_type": "code",
   "execution_count": 27,
   "id": "ea386ce2",
   "metadata": {},
   "outputs": [
    {
     "data": {
      "text/plain": [
       "array([[0., 0.]])"
      ]
     },
     "execution_count": 27,
     "metadata": {},
     "output_type": "execute_result"
    }
   ],
   "source": [
    "import numpy as np\n",
    "n3=np.zeros((1,2))\n",
    "n3"
   ]
  },
  {
   "cell_type": "code",
   "execution_count": 29,
   "id": "5045faf4",
   "metadata": {},
   "outputs": [
    {
     "data": {
      "text/plain": [
       "array([[0., 0., 0., 0., 0., 0., 0., 0., 0., 0.],\n",
       "       [0., 0., 0., 0., 0., 0., 0., 0., 0., 0.],\n",
       "       [0., 0., 0., 0., 0., 0., 0., 0., 0., 0.],\n",
       "       [0., 0., 0., 0., 0., 0., 0., 0., 0., 0.],\n",
       "       [0., 0., 0., 0., 0., 0., 0., 0., 0., 0.],\n",
       "       [0., 0., 0., 0., 0., 0., 0., 0., 0., 0.],\n",
       "       [0., 0., 0., 0., 0., 0., 0., 0., 0., 0.],\n",
       "       [0., 0., 0., 0., 0., 0., 0., 0., 0., 0.],\n",
       "       [0., 0., 0., 0., 0., 0., 0., 0., 0., 0.],\n",
       "       [0., 0., 0., 0., 0., 0., 0., 0., 0., 0.]])"
      ]
     },
     "execution_count": 29,
     "metadata": {},
     "output_type": "execute_result"
    }
   ],
   "source": [
    "import numpy as np\n",
    "n3=np.zeros((10,10))\n",
    "n3"
   ]
  },
  {
   "cell_type": "code",
   "execution_count": 30,
   "id": "f1c8d87e",
   "metadata": {},
   "outputs": [
    {
     "data": {
      "text/plain": [
       "array([[55, 55, 55],\n",
       "       [55, 55, 55],\n",
       "       [55, 55, 55]])"
      ]
     },
     "execution_count": 30,
     "metadata": {},
     "output_type": "execute_result"
    }
   ],
   "source": [
    "import numpy as np\n",
    "n3=np.full((3,3),55)\n",
    "n3"
   ]
  },
  {
   "cell_type": "code",
   "execution_count": 32,
   "id": "9335415e",
   "metadata": {},
   "outputs": [
    {
     "data": {
      "text/plain": [
       "array([10, 11, 12, 13, 14, 15, 16, 17, 18, 19])"
      ]
     },
     "execution_count": 32,
     "metadata": {},
     "output_type": "execute_result"
    }
   ],
   "source": [
    "import numpy as np\n",
    "n3=np.arange(10,20)\n",
    "n3"
   ]
  },
  {
   "cell_type": "code",
   "execution_count": 34,
   "id": "683cd5f3",
   "metadata": {},
   "outputs": [
    {
     "data": {
      "text/plain": [
       "array([ 10,  20,  30,  40,  50,  60,  70,  80,  90, 100, 110, 120, 130,\n",
       "       140, 150, 160, 170, 180, 190, 200, 210, 220, 230, 240, 250, 260,\n",
       "       270, 280, 290, 300, 310, 320, 330, 340, 350, 360, 370, 380, 390,\n",
       "       400, 410, 420, 430, 440, 450, 460, 470, 480, 490])"
      ]
     },
     "execution_count": 34,
     "metadata": {},
     "output_type": "execute_result"
    }
   ],
   "source": [
    "import numpy as np\n",
    "n3=np.arange(10,500,10)\n",
    "n3"
   ]
  },
  {
   "cell_type": "code",
   "execution_count": 35,
   "id": "05321040",
   "metadata": {},
   "outputs": [],
   "source": [
    "#intitializing numpy array with random numbers "
   ]
  },
  {
   "cell_type": "code",
   "execution_count": 38,
   "id": "560dc8d1",
   "metadata": {},
   "outputs": [
    {
     "data": {
      "text/plain": [
       "array([8, 6, 2, 8, 4])"
      ]
     },
     "execution_count": 38,
     "metadata": {},
     "output_type": "execute_result"
    }
   ],
   "source": [
    "import numpy as np\n",
    "n3=np.random.randint(1,10,5)\n",
    "n3"
   ]
  },
  {
   "cell_type": "code",
   "execution_count": 39,
   "id": "dc0c69c0",
   "metadata": {},
   "outputs": [
    {
     "data": {
      "text/plain": [
       "(2, 4)"
      ]
     },
     "execution_count": 39,
     "metadata": {},
     "output_type": "execute_result"
    }
   ],
   "source": [
    "import numpy as np\n",
    "n2=np.array([[10,20,30,40],[40,30,20,10]])\n",
    "n2.shape"
   ]
  },
  {
   "cell_type": "code",
   "execution_count": 40,
   "id": "8d9362a3",
   "metadata": {},
   "outputs": [],
   "source": [
    "n2.shape=(4,2)"
   ]
  },
  {
   "cell_type": "code",
   "execution_count": 41,
   "id": "d6726c94",
   "metadata": {},
   "outputs": [
    {
     "data": {
      "text/plain": [
       "array([[10, 20],\n",
       "       [30, 40],\n",
       "       [40, 30],\n",
       "       [20, 10]])"
      ]
     },
     "execution_count": 41,
     "metadata": {},
     "output_type": "execute_result"
    }
   ],
   "source": [
    "n2"
   ]
  },
  {
   "cell_type": "code",
   "execution_count": 47,
   "id": "fd4ddb8a",
   "metadata": {},
   "outputs": [
    {
     "data": {
      "text/plain": [
       "array([[10],\n",
       "       [20],\n",
       "       [30],\n",
       "       [40],\n",
       "       [40],\n",
       "       [30],\n",
       "       [20],\n",
       "       [10]])"
      ]
     },
     "execution_count": 47,
     "metadata": {},
     "output_type": "execute_result"
    }
   ],
   "source": [
    "n2.shape=(8,1)\n",
    "n2"
   ]
  },
  {
   "cell_type": "code",
   "execution_count": 48,
   "id": "12a78965",
   "metadata": {},
   "outputs": [
    {
     "data": {
      "text/plain": [
       "array([[40, 30, 20, 10],\n",
       "       [10, 20, 30, 40]])"
      ]
     },
     "execution_count": 48,
     "metadata": {},
     "output_type": "execute_result"
    }
   ],
   "source": [
    "import numpy as np\n",
    "n2=np.array([10,20,30,40])\n",
    "n1=np.array( [40,30,20,10])\n",
    "np.vstack((n1,n2))"
   ]
  },
  {
   "cell_type": "code",
   "execution_count": 49,
   "id": "b1195e72",
   "metadata": {},
   "outputs": [
    {
     "data": {
      "text/plain": [
       "array([40, 30, 20, 10, 10, 20, 30, 40])"
      ]
     },
     "execution_count": 49,
     "metadata": {},
     "output_type": "execute_result"
    }
   ],
   "source": [
    "import numpy as np\n",
    "n2=np.array([10,20,30,40])\n",
    "n1=np.array( [40,30,20,10])\n",
    "np.hstack((n1,n2))"
   ]
  },
  {
   "cell_type": "code",
   "execution_count": 50,
   "id": "ecb8130b",
   "metadata": {},
   "outputs": [
    {
     "data": {
      "text/plain": [
       "array([[40, 10],\n",
       "       [30, 20],\n",
       "       [20, 30],\n",
       "       [10, 40]])"
      ]
     },
     "execution_count": 50,
     "metadata": {},
     "output_type": "execute_result"
    }
   ],
   "source": [
    "import numpy as np\n",
    "n2=np.array([10,20,30,40])\n",
    "n1=np.array( [40,30,20,10])\n",
    "np.column_stack((n1,n2))"
   ]
  },
  {
   "cell_type": "code",
   "execution_count": 53,
   "id": "eea0a65b",
   "metadata": {},
   "outputs": [
    {
     "data": {
      "text/plain": [
       "array([10, 20, 40])"
      ]
     },
     "execution_count": 53,
     "metadata": {},
     "output_type": "execute_result"
    }
   ],
   "source": [
    "import numpy as np\n",
    "n2=np.array([10,20,40,30,80,90])\n",
    "n1=np.array( [40,20,10])\n",
    "np.intersect1d(n1,n2)"
   ]
  },
  {
   "cell_type": "code",
   "execution_count": 56,
   "id": "a1861ee9",
   "metadata": {},
   "outputs": [
    {
     "data": {
      "text/plain": [
       "array([30, 80, 90])"
      ]
     },
     "execution_count": 56,
     "metadata": {},
     "output_type": "execute_result"
    }
   ],
   "source": [
    "import numpy as np\n",
    "n2=np.array([10,20,40,30,80,90])\n",
    "n1=np.array([40,20,10])\n",
    "np.setdiff1d(n2,n1)"
   ]
  },
  {
   "cell_type": "code",
   "execution_count": 58,
   "id": "50fdfa5d",
   "metadata": {},
   "outputs": [
    {
     "data": {
      "text/plain": [
       "60"
      ]
     },
     "execution_count": 58,
     "metadata": {},
     "output_type": "execute_result"
    }
   ],
   "source": [
    "import numpy as np\n",
    "n2=np.array([10,20,])\n",
    "n1=np.array([20,10])\n",
    "np.sum([n2,n1])"
   ]
  },
  {
   "cell_type": "code",
   "execution_count": 61,
   "id": "7509f8db",
   "metadata": {},
   "outputs": [
    {
     "data": {
      "text/plain": [
       "array([60, 30])"
      ]
     },
     "execution_count": 61,
     "metadata": {},
     "output_type": "execute_result"
    }
   ],
   "source": [
    "import numpy as np\n",
    "n2=np.array([10,20,])\n",
    "n1=np.array([50,10])\n",
    "np.sum([n2,n1],axis=0)"
   ]
  },
  {
   "cell_type": "code",
   "execution_count": 62,
   "id": "aed859a2",
   "metadata": {},
   "outputs": [
    {
     "data": {
      "text/plain": [
       "array([40, 60])"
      ]
     },
     "execution_count": 62,
     "metadata": {},
     "output_type": "execute_result"
    }
   ],
   "source": [
    "import numpy as np\n",
    "n2=np.array([10,30,])\n",
    "n1=np.array([50,10])\n",
    "np.sum([n2,n1],axis=1)"
   ]
  },
  {
   "cell_type": "code",
   "execution_count": 63,
   "id": "ea7575cb",
   "metadata": {},
   "outputs": [
    {
     "data": {
      "text/plain": [
       "array([11, 31])"
      ]
     },
     "execution_count": 63,
     "metadata": {},
     "output_type": "execute_result"
    }
   ],
   "source": [
    "import numpy as np\n",
    "n2=np.array([10,30,])\n",
    "n2=n2+1\n",
    "n2"
   ]
  },
  {
   "cell_type": "code",
   "execution_count": 65,
   "id": "44662446",
   "metadata": {},
   "outputs": [
    {
     "data": {
      "text/plain": [
       "array([20, 60])"
      ]
     },
     "execution_count": 65,
     "metadata": {},
     "output_type": "execute_result"
    }
   ],
   "source": [
    "import numpy as np\n",
    "n2=np.array([10,30,])\n",
    "n2=n2*2\n",
    "n2"
   ]
  },
  {
   "cell_type": "code",
   "execution_count": 66,
   "id": "2a29ca91",
   "metadata": {},
   "outputs": [
    {
     "data": {
      "text/plain": [
       "array([ 9, 29])"
      ]
     },
     "execution_count": 66,
     "metadata": {},
     "output_type": "execute_result"
    }
   ],
   "source": [
    "import numpy as np\n",
    "n2=np.array([10,30,])\n",
    "n2=n2-1\n",
    "n2"
   ]
  },
  {
   "cell_type": "code",
   "execution_count": 67,
   "id": "cdce8edf",
   "metadata": {},
   "outputs": [
    {
     "data": {
      "text/plain": [
       "array([2., 6.])"
      ]
     },
     "execution_count": 67,
     "metadata": {},
     "output_type": "execute_result"
    }
   ],
   "source": [
    "import numpy as np\n",
    "n2=np.array([10,30,])\n",
    "n2=n2/5\n",
    "n2"
   ]
  },
  {
   "cell_type": "code",
   "execution_count": 68,
   "id": "e6ba976e",
   "metadata": {},
   "outputs": [
    {
     "data": {
      "text/plain": [
       "35.0"
      ]
     },
     "execution_count": 68,
     "metadata": {},
     "output_type": "execute_result"
    }
   ],
   "source": [
    "import numpy as np\n",
    "n2=np.array([10,20,30,40,50,60])\n",
    "np.mean(n2)"
   ]
  },
  {
   "cell_type": "code",
   "execution_count": 69,
   "id": "f2b97b4a",
   "metadata": {},
   "outputs": [
    {
     "data": {
      "text/plain": [
       "17.07825127659933"
      ]
     },
     "execution_count": 69,
     "metadata": {},
     "output_type": "execute_result"
    }
   ],
   "source": [
    "import numpy as np\n",
    "n2=np.array([10,20,30,40,50,60])\n",
    "np.std(n2)"
   ]
  },
  {
   "cell_type": "code",
   "execution_count": 75,
   "id": "698abad7",
   "metadata": {},
   "outputs": [
    {
     "data": {
      "text/plain": [
       "36.0"
      ]
     },
     "execution_count": 75,
     "metadata": {},
     "output_type": "execute_result"
    }
   ],
   "source": [
    "import numpy as np\n",
    "n2=np.array([13,21,30,42,55,69,85,26])\n",
    "np.median(n2)"
   ]
  },
  {
   "cell_type": "code",
   "execution_count": 79,
   "id": "71bfcb03",
   "metadata": {},
   "outputs": [],
   "source": [
    "import numpy as np\n",
    "n2=np.array([13,21,30,42,55,69,85,26])\n",
    "np.save('myarray',n2)"
   ]
  },
  {
   "cell_type": "code",
   "execution_count": 91,
   "id": "0cf4d901",
   "metadata": {},
   "outputs": [
    {
     "ename": "AttributeError",
     "evalue": "module 'numpy' has no attribute 'Load'",
     "output_type": "error",
     "traceback": [
      "\u001b[1;31m---------------------------------------------------------------------------\u001b[0m",
      "\u001b[1;31mAttributeError\u001b[0m                            Traceback (most recent call last)",
      "Cell \u001b[1;32mIn[91], line 1\u001b[0m\n\u001b[1;32m----> 1\u001b[0m new_n2\u001b[38;5;241m=\u001b[39m\u001b[43mnp\u001b[49m\u001b[38;5;241;43m.\u001b[39;49m\u001b[43mLoad\u001b[49m(\u001b[38;5;124m'\u001b[39m\u001b[38;5;124mmy array.np\u001b[39m\u001b[38;5;124m'\u001b[39m)\n",
      "File \u001b[1;32m~\\anaconda3\\anaconda3\\lib\\site-packages\\numpy\\__init__.py:311\u001b[0m, in \u001b[0;36m__getattr__\u001b[1;34m(attr)\u001b[0m\n\u001b[0;32m    308\u001b[0m     \u001b[38;5;28;01mfrom\u001b[39;00m \u001b[38;5;21;01m.\u001b[39;00m\u001b[38;5;21;01mtesting\u001b[39;00m \u001b[38;5;28;01mimport\u001b[39;00m Tester\n\u001b[0;32m    309\u001b[0m     \u001b[38;5;28;01mreturn\u001b[39;00m Tester\n\u001b[1;32m--> 311\u001b[0m \u001b[38;5;28;01mraise\u001b[39;00m \u001b[38;5;167;01mAttributeError\u001b[39;00m(\u001b[38;5;124m\"\u001b[39m\u001b[38;5;124mmodule \u001b[39m\u001b[38;5;132;01m{!r}\u001b[39;00m\u001b[38;5;124m has no attribute \u001b[39m\u001b[38;5;124m\"\u001b[39m\n\u001b[0;32m    312\u001b[0m                      \u001b[38;5;124m\"\u001b[39m\u001b[38;5;132;01m{!r}\u001b[39;00m\u001b[38;5;124m\"\u001b[39m\u001b[38;5;241m.\u001b[39mformat(\u001b[38;5;18m__name__\u001b[39m, attr))\n",
      "\u001b[1;31mAttributeError\u001b[0m: module 'numpy' has no attribute 'Load'"
     ]
    }
   ],
   "source": [
    "new_n2=np.Load('my array.np')\n"
   ]
  },
  {
   "cell_type": "code",
   "execution_count": 82,
   "id": "bdde38e0",
   "metadata": {},
   "outputs": [],
   "source": [
    "#pandas"
   ]
  },
  {
   "cell_type": "code",
   "execution_count": 90,
   "id": "3be84f63",
   "metadata": {},
   "outputs": [
    {
     "name": "stdout",
     "output_type": "stream",
     "text": [
      "0    1\n",
      "1    2\n",
      "2    3\n",
      "3    4\n",
      "4    5\n",
      "dtype: int64\n"
     ]
    }
   ],
   "source": [
    "import pandas as pd \n",
    "l1=[1,2,3,4,5]\n",
    "s1=pd.Series(l1)\n",
    "print(s1)"
   ]
  },
  {
   "cell_type": "markdown",
   "id": "f175f232",
   "metadata": {},
   "source": [
    "s1"
   ]
  },
  {
   "cell_type": "code",
   "execution_count": 92,
   "id": "65e74d08",
   "metadata": {},
   "outputs": [
    {
     "data": {
      "text/plain": [
       "0    1\n",
       "1    2\n",
       "2    3\n",
       "3    4\n",
       "4    5\n",
       "dtype: int64"
      ]
     },
     "execution_count": 92,
     "metadata": {},
     "output_type": "execute_result"
    }
   ],
   "source": [
    "s1"
   ]
  },
  {
   "cell_type": "code",
   "execution_count": 89,
   "id": "ea296eb7",
   "metadata": {},
   "outputs": [
    {
     "name": "stdout",
     "output_type": "stream",
     "text": [
      "A    10\n",
      "B    20\n",
      "C    30\n",
      "D    40\n",
      "E    50\n",
      "dtype: int64\n"
     ]
    }
   ],
   "source": [
    "import pandas as pd\n",
    "\n",
    "\n",
    "data = [10, 20, 30, 40, 50]\n",
    "index = ['A', 'B', 'C', 'D', 'E']\n",
    "series_data = pd.Series(data, index=index)\n",
    "\n",
    "\n",
    "print(series_data)\n"
   ]
  },
  {
   "cell_type": "code",
   "execution_count": 2,
   "id": "1023f68f",
   "metadata": {},
   "outputs": [
    {
     "data": {
      "text/plain": [
       "a    10\n",
       "b    20\n",
       "c    30\n",
       "dtype: int64"
      ]
     },
     "execution_count": 2,
     "metadata": {},
     "output_type": "execute_result"
    }
   ],
   "source": [
    "import pandas as pd \n",
    "pd.Series({'a':10,'b':20,'c':30})"
   ]
  },
  {
   "cell_type": "code",
   "execution_count": 5,
   "id": "0efe846e",
   "metadata": {},
   "outputs": [
    {
     "data": {
      "text/plain": [
       "a1    10.0\n",
       "b1    20.0\n",
       "c1    30.0\n",
       "d1     NaN\n",
       "dtype: float64"
      ]
     },
     "execution_count": 5,
     "metadata": {},
     "output_type": "execute_result"
    }
   ],
   "source": [
    "import pandas as pd \n",
    "pd.Series({'a1':10,'b1':20,'c1':30},index=['a1','b1','c1','d1'])"
   ]
  },
  {
   "cell_type": "code",
   "execution_count": 6,
   "id": "1844804f",
   "metadata": {},
   "outputs": [
    {
     "data": {
      "text/plain": [
       "30"
      ]
     },
     "execution_count": 6,
     "metadata": {},
     "output_type": "execute_result"
    }
   ],
   "source": [
    "import pandas as pd \n",
    "s1=pd.Series({'a':10,'b':20,'c':30})\n",
    "s1[2]"
   ]
  },
  {
   "cell_type": "code",
   "execution_count": 9,
   "id": "243be7b0",
   "metadata": {},
   "outputs": [
    {
     "data": {
      "text/plain": [
       "6    7\n",
       "7    8\n",
       "8    9\n",
       "dtype: int64"
      ]
     },
     "execution_count": 9,
     "metadata": {},
     "output_type": "execute_result"
    }
   ],
   "source": [
    "import pandas as pd \n",
    "s1=pd.Series([1,2,3,4,5,6,7,8,9])\n",
    "s1[-3:]"
   ]
  },
  {
   "cell_type": "code",
   "execution_count": 10,
   "id": "da27e611",
   "metadata": {},
   "outputs": [
    {
     "data": {
      "text/plain": [
       "0    1\n",
       "1    2\n",
       "2    3\n",
       "3    4\n",
       "dtype: int64"
      ]
     },
     "execution_count": 10,
     "metadata": {},
     "output_type": "execute_result"
    }
   ],
   "source": [
    "import pandas as pd \n",
    "s1=pd.Series([1,2,3,4,5,6,7,8,9])\n",
    "s1[:4]"
   ]
  },
  {
   "cell_type": "code",
   "execution_count": 11,
   "id": "90043876",
   "metadata": {},
   "outputs": [
    {
     "data": {
      "text/plain": [
       "0     2\n",
       "1     3\n",
       "2     4\n",
       "3     5\n",
       "4     6\n",
       "5     7\n",
       "6     8\n",
       "7     9\n",
       "8    10\n",
       "dtype: int64"
      ]
     },
     "execution_count": 11,
     "metadata": {},
     "output_type": "execute_result"
    }
   ],
   "source": [
    "s1+1"
   ]
  },
  {
   "cell_type": "code",
   "execution_count": 12,
   "id": "a878ced9",
   "metadata": {},
   "outputs": [
    {
     "data": {
      "text/plain": [
       "0    11\n",
       "1    22\n",
       "2    33\n",
       "3    44\n",
       "4    55\n",
       "5    66\n",
       "6    77\n",
       "7    88\n",
       "8    99\n",
       "dtype: int64"
      ]
     },
     "execution_count": 12,
     "metadata": {},
     "output_type": "execute_result"
    }
   ],
   "source": [
    "s2=pd.Series([10,20,30,40,50,60,70,80,90])\n",
    "s1+s2"
   ]
  },
  {
   "cell_type": "code",
   "execution_count": 19,
   "id": "0db35ba2",
   "metadata": {},
   "outputs": [
    {
     "data": {
      "text/html": [
       "<div>\n",
       "<style scoped>\n",
       "    .dataframe tbody tr th:only-of-type {\n",
       "        vertical-align: middle;\n",
       "    }\n",
       "\n",
       "    .dataframe tbody tr th {\n",
       "        vertical-align: top;\n",
       "    }\n",
       "\n",
       "    .dataframe thead th {\n",
       "        text-align: right;\n",
       "    }\n",
       "</style>\n",
       "<table border=\"1\" class=\"dataframe\">\n",
       "  <thead>\n",
       "    <tr style=\"text-align: right;\">\n",
       "      <th></th>\n",
       "      <th>Name</th>\n",
       "      <th>Age</th>\n",
       "      <th>Gender</th>\n",
       "      <th>Salary</th>\n",
       "      <th>Department</th>\n",
       "    </tr>\n",
       "  </thead>\n",
       "  <tbody>\n",
       "    <tr>\n",
       "      <th>0</th>\n",
       "      <td>John</td>\n",
       "      <td>30</td>\n",
       "      <td>Male</td>\n",
       "      <td>60000</td>\n",
       "      <td>Engineering</td>\n",
       "    </tr>\n",
       "    <tr>\n",
       "      <th>1</th>\n",
       "      <td>Jane</td>\n",
       "      <td>28</td>\n",
       "      <td>Female</td>\n",
       "      <td>55000</td>\n",
       "      <td>Marketing</td>\n",
       "    </tr>\n",
       "    <tr>\n",
       "      <th>2</th>\n",
       "      <td>Mike</td>\n",
       "      <td>35</td>\n",
       "      <td>Male</td>\n",
       "      <td>70000</td>\n",
       "      <td>Sales</td>\n",
       "    </tr>\n",
       "    <tr>\n",
       "      <th>3</th>\n",
       "      <td>Emily</td>\n",
       "      <td>32</td>\n",
       "      <td>Female</td>\n",
       "      <td>65000</td>\n",
       "      <td>HR</td>\n",
       "    </tr>\n",
       "    <tr>\n",
       "      <th>4</th>\n",
       "      <td>David</td>\n",
       "      <td>40</td>\n",
       "      <td>Male</td>\n",
       "      <td>75000</td>\n",
       "      <td>Finance</td>\n",
       "    </tr>\n",
       "    <tr>\n",
       "      <th>5</th>\n",
       "      <td>Mary</td>\n",
       "      <td>27</td>\n",
       "      <td>Female</td>\n",
       "      <td>50000</td>\n",
       "      <td>IT</td>\n",
       "    </tr>\n",
       "  </tbody>\n",
       "</table>\n",
       "</div>"
      ],
      "text/plain": [
       "    Name  Age  Gender  Salary   Department\n",
       "0   John   30    Male   60000  Engineering\n",
       "1   Jane   28  Female   55000    Marketing\n",
       "2   Mike   35    Male   70000        Sales\n",
       "3  Emily   32  Female   65000           HR\n",
       "4  David   40    Male   75000      Finance\n",
       "5   Mary   27  Female   50000           IT"
      ]
     },
     "execution_count": 19,
     "metadata": {},
     "output_type": "execute_result"
    }
   ],
   "source": [
    "s1=pd.DataFrame({\n",
    "    'Name': ['John', 'Jane', 'Mike', 'Emily', 'David', 'Mary'],\n",
    "    'Age': [30, 28, 35, 32, 40, 27],\n",
    "    'Gender': ['Male', 'Female', 'Male', 'Female', 'Male', 'Female'],\n",
    "    'Salary': [60000, 55000, 70000, 65000, 75000, 50000],\n",
    "    'Department': ['Engineering', 'Marketing', 'Sales', 'HR', 'Finance', 'IT']\n",
    "})\n",
    "s1"
   ]
  },
  {
   "cell_type": "code",
   "execution_count": 14,
   "id": "b8d2a75a",
   "metadata": {},
   "outputs": [],
   "source": [
    "#iris=pd.read_csv('iris.csv')\n",
    "#for first 5 value of the data then use \n",
    "#iris.head()\n",
    "#for last 5 value of the data then use\n",
    "#iris.tail()\n",
    "#to count number of row and column\n",
    "#iris.shape\n",
    "#iris.describe () it describe mean mode meadian and other info\n"
   ]
  },
  {
   "cell_type": "code",
   "execution_count": null,
   "id": "f9b0caf1",
   "metadata": {},
   "outputs": [],
   "source": [
    "#to extract any particular row or column \n",
    "#iris.iloc[0:3,0:2]"
   ]
  },
  {
   "cell_type": "code",
   "execution_count": 1,
   "id": "49c06f99",
   "metadata": {},
   "outputs": [],
   "source": [
    "#line plot matplotlib\n"
   ]
  },
  {
   "cell_type": "code",
   "execution_count": 2,
   "id": "6f96e686",
   "metadata": {},
   "outputs": [
    {
     "name": "stderr",
     "output_type": "stream",
     "text": [
      "Matplotlib is building the font cache; this may take a moment.\n"
     ]
    }
   ],
   "source": [
    "import numpy as np\n",
    "from matplotlib import pyplot as plt "
   ]
  },
  {
   "cell_type": "code",
   "execution_count": 3,
   "id": "d965e2de",
   "metadata": {},
   "outputs": [
    {
     "data": {
      "text/plain": [
       "array([ 1,  2,  3,  4,  5,  6,  7,  8,  9, 10])"
      ]
     },
     "execution_count": 3,
     "metadata": {},
     "output_type": "execute_result"
    }
   ],
   "source": [
    "x=np.arange(1,11)\n",
    "x"
   ]
  },
  {
   "cell_type": "code",
   "execution_count": 4,
   "id": "ad804a94",
   "metadata": {},
   "outputs": [
    {
     "data": {
      "text/plain": [
       "array([ 2,  4,  6,  8, 10, 12, 14, 16, 18, 20])"
      ]
     },
     "execution_count": 4,
     "metadata": {},
     "output_type": "execute_result"
    }
   ],
   "source": [
    "y=2*x\n",
    "y"
   ]
  },
  {
   "cell_type": "code",
   "execution_count": 5,
   "id": "ef71580e",
   "metadata": {
    "scrolled": true
   },
   "outputs": [
    {
     "data": {
      "image/png": "[encoded data removed]",
      "text/plain": [
       "<Figure size 640x480 with 1 Axes>"
      ]
     },
     "metadata": {},
     "output_type": "display_data"
    }
   ],
   "source": [
    "plt.plot(x,y)\n",
    "plt.show()"
   ]
  },
  {
   "cell_type": "code",
   "execution_count": 8,
   "id": "1c63b838",
   "metadata": {},
   "outputs": [
    {
     "data": {
      "image/png": "[encoded data removed]",
      "text/plain": [
       "<Figure size 640x480 with 1 Axes>"
      ]
     },
     "metadata": {},
     "output_type": "display_data"
    }
   ],
   "source": [
    "plt.plot(x,y)\n",
    "plt.title(\"line plot rv srma\")\n",
    "plt.xlabel(\"x-lable rv srma\")\n",
    "plt.ylabel(\"y-lable rv srma\")\n",
    "plt.show()"
   ]
  },
  {
   "cell_type": "code",
   "execution_count": 17,
   "id": "5e9fb601",
   "metadata": {},
   "outputs": [
    {
     "data": {
      "image/png": "[encoded data removed]",
      "text/plain": [
       "<Figure size 640x480 with 1 Axes>"
      ]
     },
     "metadata": {},
     "output_type": "display_data"
    }
   ],
   "source": [
    "plt.plot(x,y,color='g',linestyle=':', linewidth=5)\n",
    "plt.show()"
   ]
  },
  {
   "cell_type": "code",
   "execution_count": 19,
   "id": "83502093",
   "metadata": {},
   "outputs": [],
   "source": [
    "x=np.arange(1,11)\n",
    "y1=2*x\n",
    "y2=3*x"
   ]
  },
  {
   "cell_type": "code",
   "execution_count": 30,
   "id": "d4cf6c27",
   "metadata": {},
   "outputs": [
    {
     "data": {
      "image/png": "[encoded data removed]",
      "text/plain": [
       "<Figure size 640x480 with 1 Axes>"
      ]
     },
     "metadata": {},
     "output_type": "display_data"
    }
   ],
   "source": [
    "plt.plot(x,y1,color='r',linestyle=':',linewidth=4)\n",
    "plt.plot(x,y2,color='y',linestyle='-',linewidth=4)\n",
    "plt.title(\"rvsrma rock\")\n",
    "plt.xlabel('x-factor')\n",
    "plt.ylabel('y-factor')\n",
    "plt.grid(True)\n",
    "plt.show()"
   ]
  },
  {
   "cell_type": "code",
   "execution_count": 32,
   "id": "861e038e",
   "metadata": {},
   "outputs": [
    {
     "data": {
      "image/png": "[encoded data removed]",
      "text/plain": [
       "<Figure size 640x480 with 2 Axes>"
      ]
     },
     "metadata": {},
     "output_type": "display_data"
    }
   ],
   "source": [
    "x=np.arange(1,11)\n",
    "y1=2*x\n",
    "y2=3*x\n",
    "\n",
    "plt.subplot(1,2,1)\n",
    "plt.plot(x,y1,color='r',linestyle='-',linewidth=4)\n",
    "\n",
    "\n",
    "plt.subplot(1,2,2)\n",
    "plt.plot(x,y2,color='g',linestyle='-',linewidth=4)\n",
    "\n",
    "plt.show()\n",
    "\n"
   ]
  },
  {
   "cell_type": "code",
   "execution_count": 33,
   "id": "793f4151",
   "metadata": {},
   "outputs": [],
   "source": [
    "x=np.arange(1,11)\n",
    "y1=2*x\n",
    "y2=3*x"
   ]
  },
  {
   "cell_type": "code",
   "execution_count": 34,
   "id": "0275eadd",
   "metadata": {},
   "outputs": [
    {
     "data": {
      "text/plain": [
       "array([ 2,  4,  6,  8, 10, 12, 14, 16, 18, 20])"
      ]
     },
     "execution_count": 34,
     "metadata": {},
     "output_type": "execute_result"
    }
   ],
   "source": [
    "y1"
   ]
  },
  {
   "cell_type": "code",
   "execution_count": 35,
   "id": "1731b6e6",
   "metadata": {},
   "outputs": [
    {
     "data": {
      "text/plain": [
       "array([ 3,  6,  9, 12, 15, 18, 21, 24, 27, 30])"
      ]
     },
     "execution_count": 35,
     "metadata": {},
     "output_type": "execute_result"
    }
   ],
   "source": [
    "y2"
   ]
  },
  {
   "cell_type": "code",
   "execution_count": 36,
   "id": "186a89c6",
   "metadata": {},
   "outputs": [
    {
     "data": {
      "text/plain": [
       "array([ 1,  2,  3,  4,  5,  6,  7,  8,  9, 10])"
      ]
     },
     "execution_count": 36,
     "metadata": {},
     "output_type": "execute_result"
    }
   ],
   "source": [
    "x"
   ]
  },
  {
   "cell_type": "code",
   "execution_count": 7,
   "id": "0e15d4c2",
   "metadata": {},
   "outputs": [],
   "source": [
    "import numpy as np\n",
    "from matplotlib import pyplot as plt\n",
    "student={\"bob\":87,\"matt\":56,\"sam\":27}\n",
    "names=list(student.keys())\n",
    "values=list(student.values())\n"
   ]
  },
  {
   "cell_type": "code",
   "execution_count": 14,
   "id": "39fabaf0",
   "metadata": {},
   "outputs": [
    {
     "data": {
      "image/png": "[encoded data removed]",
      "text/plain": [
       "<Figure size 640x480 with 1 Axes>"
      ]
     },
     "metadata": {},
     "output_type": "display_data"
    }
   ],
   "source": [
    "plt.bar(names,values,color=\"y\")\n",
    "plt.title(\"student vs fruits\")\n",
    "plt.xlabel('fruits')\n",
    "plt.ylabel(\"student\")\n",
    "plt.show()"
   ]
  },
  {
   "cell_type": "code",
   "execution_count": 15,
   "id": "5ee1f5d6",
   "metadata": {},
   "outputs": [
    {
     "data": {
      "image/png": "[encoded data removed]",
      "text/plain": [
       "<Figure size 640x480 with 1 Axes>"
      ]
     },
     "metadata": {},
     "output_type": "display_data"
    }
   ],
   "source": [
    "plt.barh(names,values,color=\"g\")\n",
    "plt.title(\"student vs fruits\")\n",
    "plt.xlabel('fruits')\n",
    "plt.ylabel(\"student\")\n",
    "plt.grid(True)\n",
    "plt.show()"
   ]
  },
  {
   "cell_type": "code",
   "execution_count": 20,
   "id": "2cf3d316",
   "metadata": {},
   "outputs": [
    {
     "data": {
      "image/png": "[encoded data removed]",
      "text/plain": [
       "<Figure size 640x480 with 1 Axes>"
      ]
     },
     "metadata": {},
     "output_type": "display_data"
    }
   ],
   "source": [
    "x=[10,20,30,40,50,60,70,80,90]\n",
    "a=[2,1,9,4,5,0,7,8,3]\n",
    "plt.scatter(x,a,color=\"g\")\n",
    "plt.grid(True)\n",
    "plt.show()"
   ]
  },
  {
   "cell_type": "code",
   "execution_count": 23,
   "id": "0a9d1f2a",
   "metadata": {},
   "outputs": [
    {
     "data": {
      "image/png": "[encoded data removed]",
      "text/plain": [
       "<Figure size 640x480 with 1 Axes>"
      ]
     },
     "metadata": {},
     "output_type": "display_data"
    }
   ],
   "source": [
    "x=[10,20,30,40,50,60,70,80,90]\n",
    "a=[2,1,9,4,5,0,7,8,3]\n",
    "plt.scatter(x,a,color=\"r\",marker=\"*\",s=100)\n",
    "\n",
    "plt.show()"
   ]
  },
  {
   "cell_type": "code",
   "execution_count": 24,
   "id": "c84327b8",
   "metadata": {},
   "outputs": [
    {
     "data": {
      "image/png": "[encoded data removed]",
      "text/plain": [
       "<Figure size 640x480 with 1 Axes>"
      ]
     },
     "metadata": {},
     "output_type": "display_data"
    }
   ],
   "source": [
    "x=[10,20,30,40,50,60,70,80,90]\n",
    "a=[2,1,9,4,5,0,7,8,3]\n",
    "b=[7,1,2,8,4,6,3,9,5]\n",
    "plt.scatter(x,a,color=\"r\",marker=\"*\",s=100)\n",
    "plt.scatter(x,b,color=\"g\",s=200)\n",
    "\n",
    "plt.show()"
   ]
  },
  {
   "cell_type": "code",
   "execution_count": 27,
   "id": "c4e87e4b",
   "metadata": {},
   "outputs": [
    {
     "data": {
      "image/png": "[encoded data removed]",
      "text/plain": [
       "<Figure size 640x480 with 2 Axes>"
      ]
     },
     "metadata": {},
     "output_type": "display_data"
    }
   ],
   "source": [
    "x=[10,20,30,40,50,60,70,80,90]\n",
    "a=[2,1,9,4,5,0,7,8,3]\n",
    "b=[7,1,2,8,4,6,3,9,5]\n",
    "plt.subplot(1,2,1)\n",
    "plt.scatter(x,a,color=\"r\",marker=\"*\",s=100)\n",
    "plt.subplot(1,2,2)\n",
    "plt.scatter(x,b,color=\"y\",s=100)\n",
    "\n",
    "plt.show()"
   ]
  },
  {
   "cell_type": "code",
   "execution_count": 29,
   "id": "2b0f1462",
   "metadata": {},
   "outputs": [
    {
     "data": {
      "image/png": "[encoded data removed]",
      "text/plain": [
       "<Figure size 640x480 with 1 Axes>"
      ]
     },
     "metadata": {},
     "output_type": "display_data"
    }
   ],
   "source": [
    "b=[7,1,2,8,4,8,8,8,3,3,2,2,6,3,9,5]\n",
    "plt.hist(b)\n",
    "plt.show()"
   ]
  },
  {
   "cell_type": "code",
   "execution_count": 32,
   "id": "69f1bba2",
   "metadata": {},
   "outputs": [
    {
     "data": {
      "image/png": "[encoded data removed]",
      "text/plain": [
       "<Figure size 640x480 with 1 Axes>"
      ]
     },
     "metadata": {},
     "output_type": "display_data"
    }
   ],
   "source": [
    "import matplotlib.pyplot as plt\n",
    "import numpy as np\n",
    "\n",
    "\n",
    "data = np.random.randint(0, 100, size=1000)\n",
    "\n",
    "\n",
    "plt.hist(data, bins=20, color='blue', alpha=0.7)\n",
    "plt.xlabel('Value')\n",
    "plt.ylabel('Frequency')\n",
    "plt.title('Histogram of Mock Data')\n",
    "plt.grid(True)\n",
    "plt.show()\n"
   ]
  },
  {
   "cell_type": "code",
   "execution_count": 33,
   "id": "a4175892",
   "metadata": {},
   "outputs": [
    {
     "data": {
      "text/plain": [
       "<function matplotlib.pyplot.show(close=None, block=None)>"
      ]
     },
     "execution_count": 33,
     "metadata": {},
     "output_type": "execute_result"
    },
    {
     "data": {
      "image/png": "[encoded data removed]",
      "text/plain": [
       "<Figure size 640x480 with 1 Axes>"
      ]
     },
     "metadata": {},
     "output_type": "display_data"
    }
   ],
   "source": [
    "one = [1,2,3,4,5,6,7,8,9]\n",
    "two = [1,2,3,4,5,6,7,8,9]\n",
    "three=[6,7,8,9,1,2,3,4,5,8]\n",
    "data=([one,two,three])\n",
    "plt.boxplot(data)\n",
    "plt.show"
   ]
  },
  {
   "cell_type": "code",
   "execution_count": 34,
   "id": "7adda865",
   "metadata": {},
   "outputs": [
    {
     "data": {
      "image/png": "[encoded data removed]",
      "text/plain": [
       "<Figure size 640x480 with 1 Axes>"
      ]
     },
     "metadata": {},
     "output_type": "display_data"
    }
   ],
   "source": [
    "one = [1,2,3,4,5,6,7,8,9]\n",
    "two = [1,2,3,4,5,6,7,8,9]\n",
    "three=[6,7,8,9,1,2,3,4,5,8]\n",
    "data=([one,two,three])\n",
    "plt.violinplot(data,showmedians=True)\n",
    "plt.show()"
   ]
  },
  {
   "cell_type": "code",
   "execution_count": 39,
   "id": "08ff983a",
   "metadata": {},
   "outputs": [
    {
     "data": {
      "image/png": "[encoded data removed]",
      "text/plain": [
       "<Figure size 640x480 with 1 Axes>"
      ]
     },
     "metadata": {},
     "output_type": "display_data"
    }
   ],
   "source": [
    "fruit=['apple','orange','mango','guava','grapes']\n",
    "quantity=[67,34,100,29,25]\n",
    "plt.pie(quantity,labels=fruit)\n",
    "plt.show()"
   ]
  },
  {
   "cell_type": "code",
   "execution_count": 40,
   "id": "48406a22",
   "metadata": {},
   "outputs": [
    {
     "data": {
      "image/png": "[encoded data removed]",
      "text/plain": [
       "<Figure size 640x480 with 1 Axes>"
      ]
     },
     "metadata": {},
     "output_type": "display_data"
    }
   ],
   "source": [
    "fruit=['apple','orange','mango','guava','grapes']\n",
    "quantity=[67,34,100,29,25]\n",
    "plt.pie(quantity,labels=fruit,autopct='%0.1f%%',colors=['yellow','grey','blue','black'])\n",
    "plt.show()"
   ]
  },
  {
   "cell_type": "code",
   "execution_count": 42,
   "id": "07a6f0b1",
   "metadata": {},
   "outputs": [
    {
     "data": {
      "image/png": "[encoded data removed]",
      "text/plain": [
       "<Figure size 640x480 with 1 Axes>"
      ]
     },
     "metadata": {},
     "output_type": "display_data"
    }
   ],
   "source": [
    "fruit=['apple','orange','mango','guava','grapes']\n",
    "quantity=[67,34,100,29,25]\n",
    "plt.pie(quantity,labels=fruit,radius=4)\n",
    "plt.pie([1],colors=['w'],radius=2)\n",
    "plt.show()\n"
   ]
  },
  {
   "cell_type": "code",
   "execution_count": 1,
   "id": "16e6c2ef",
   "metadata": {},
   "outputs": [
    {
     "name": "stdout",
     "output_type": "stream",
     "text": [
      "enter your marks10\n",
      "you will be part of A3 batch\n"
     ]
    }
   ],
   "source": [
    "marks=int(input(\"enter your marks\"))\n",
    "if marks >=80:\n",
    "    print(\"you will be a part of A0 batch \")\n",
    "elif marks>=60 and marks<80:\n",
    "    print(\"you will be a part of A1 batch\")\n",
    "elif marks>=40 and marks < 60:\n",
    "    print(\"you will be a part of A1 batch\")\n",
    "else :\n",
    "    print(\"you will be part of A3 batch\")"
   ]
  },
  {
   "cell_type": "code",
   "execution_count": null,
   "id": "0019cbeb",
   "metadata": {},
   "outputs": [],
   "source": []
  }
 ],
 "metadata": {
  "kernelspec": {
   "display_name": "Python 3 (ipykernel)",
   "language": "python",
   "name": "python3"
  },
  "language_info": {
   "codemirror_mode": {
    "name": "ipython",
    "version": 3
   },
   "file_extension": ".py",
   "mimetype": "text/x-python",
   "name": "python",
   "nbconvert_exporter": "python",
   "pygments_lexer": "ipython3",
   "version": "3.10.9"
  }
 },
 "nbformat": 4,
 "nbformat_minor": 5
}
